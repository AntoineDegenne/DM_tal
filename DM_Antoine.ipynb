{
 "cells": [
  {
   "cell_type": "markdown",
   "metadata": {},
   "source": [
    "# Classification de documents : prise en main des outils\n",
    "\n",
    "Le but de ce TP est de classer des documents textuels... Dans un premier temps, nous allons vérifier le bon fonctionnement des outils sur des données jouets puis appliquer les concepts sur des données réelles.\n",
    "\n",
    "\n",
    "## Conception de la chaine de traitement\n",
    "Pour rappel, une chaine de traitement de documents classique est composée des étapes suivantes:\n",
    "1. Lecture des données et importation\n",
    "    - Dans le cadre de nos TP, nous faisons l'hypothèse que le corpus tient en mémoire... Si ce n'est pas le cas, il faut alors ajouter des structures de données avec des buffers (*data-reader*), bien plus complexes à mettre en place.\n",
    "    - Le plus grand piège concerne l'encodage des données. Dans le TP... Pas (ou peu) de problème. Dans la vraie vie: il faut faire attention à toujours maitriser les formats d'entrée et de sortie.\n",
    "1. Traitement des données brutes paramétrique. Chaque traitement doit être activable ou desactivable + paramétrable si besoin.\n",
    "    - Enlever les informations *inutiles* : chiffre, ponctuations, majuscules, etc... <BR>\n",
    "    **L'utilité dépend de l'application!**\n",
    "    - Segmenter en mots (=*Tokenization*)\n",
    "    - Elimination des stop-words\n",
    "    - Stemming/lemmatisation (racinisation)\n",
    "    - Byte-pair encoding pour trouver les mots composés (e.g. Sorbonne Université, Ville de Paris, Premier Ministre, etc...)\n",
    "1. Traitement des données numériques\n",
    "    - Normalisation *term-frequency* / binarisation\n",
    "    - Normalisation *inverse document frequency*\n",
    "    - Elimination des mots rares, des mots trop fréquents\n",
    "    - Construction de critère de séparabilité pour éliminer des mots etc...\n",
    "1. Apprentissage d'un classifieur\n",
    "    - Choix du type de classifieur\n",
    "    - Réglage des paramètres du classifieur (régularisation, etc...)\n",
    "\n",
    "## Exploitation de la chaine de traitement\n",
    "\n",
    "On appelle cette étape la réalisation d'une campagne d'expériences: c'est le point clé que nous voulons traviller en TAL cette année.\n",
    "1. Il est impossible de tester toutes les combinaisons par rapport aux propositions ci-dessus... Il faut donc en éliminer un certain nombre.\n",
    "    - En discutant avec les experts métiers\n",
    "    - En faisant des tests préliminaires\n",
    "1. Après ce premier filtrage, il faut:\n",
    "    - Choisir une évaluation fiable et pas trop lente (validation croisée, leave-one-out, split apprentissage/test simple)\n",
    "    - Lancer des expériences en grand\n",
    "        - = *grid-search*\n",
    "        - parallèliser sur plusieurs machines\n",
    "        - savoir lancer sur un serveur et se déconnecter\n",
    "1. Collecter et analyser les résultats\n",
    "\n",
    "\n",
    "## Inférence\n",
    "\n",
    "L'inférence est ensuite très classique: la chaine de traitement optimale est apte à traiter de nouveaux documents\n",
    "\n",
    "# Etape 1: charger les données"
   ]
  },
  {
   "cell_type": "code",
   "execution_count": 103,
   "metadata": {},
   "outputs": [],
   "source": [
    "import numpy as np\n",
    "import matplotlib.pyplot as plt\n",
    "\n",
    "import codecs\n",
    "import re\n",
    "import os.path"
   ]
  },
  {
   "cell_type": "code",
   "execution_count": 104,
   "metadata": {},
   "outputs": [],
   "source": [
    "def load_movies(path2data): # 1 classe par répertoire\n",
    "    alltxts = [] # init vide\n",
    "    labs = []\n",
    "    cpt = 0\n",
    "    for cl in os.listdir(path2data): # parcours des fichiers d'un répertoire\n",
    "        for f in os.listdir(path2data+cl):\n",
    "            txt = open(path2data+cl+'/'+f).read()\n",
    "            alltxts.append(txt)\n",
    "            labs.append(cpt)\n",
    "        cpt+=1 # chg répertoire = cht classe\n",
    "        \n",
    "    return alltxts,labs\n"
   ]
  },
  {
   "cell_type": "code",
   "execution_count": 105,
   "metadata": {},
   "outputs": [],
   "source": [
    "path = \"/Users/antoinedegenne/Desktop/PAPT/3A/Web_semantique/Vincent/tuto_TAL-main-3/notebooks/ressources/movies/movies1000/\"\n",
    "\n",
    "alltxts,alllabs = load_movies(path)"
   ]
  },
  {
   "cell_type": "code",
   "execution_count": 106,
   "metadata": {},
   "outputs": [
    {
     "name": "stdout",
     "output_type": "stream",
     "text": [
      "bad . bad . \n",
      "bad . \n",
      "that one word seems to pretty much sums up beyond the valley of the dolls . \n",
      "if that summary isn't enough for you , how about t&a , t&a , t&a ? \n",
      "still haven't got the point ? \n",
      "other than director russ meyer's predilection for casting attractive large breasted women who ultimately expose the afore-mentioned anatomical areas , there is really only one other reason to recommend even taking a look at this movie . \n",
      "that is the fact that it was co-written by famed film critic roger ebert , who also was responsible for the screenplay . \n",
      "after watching this movie you will never be able to sit through another one of his reviews where he gives a movie a thumbs down for bad writing with a straight face . \n",
      "this movie stinks out loud . \n",
      "quite frankly , this movie deserves a . \n",
      "but there are parts of it that are so bad they are almost funny . \n",
      "so i'm giving it a . \n",
      "and maybe that is too generous . \n",
      "right from the opening credits , i knew that i had a class-a bomb on my hands . \n",
      "not only are the way the credits actually shot distracting , but the first scene you see includes a big breasted young woman being chased by a guy in a nazi uniform . \n",
      "i had absolutely no idea why the hell that was happening ( it does get explained later ) and as soon as the first scene is over , we cut to a completely unrelated scene . \n",
      "to be honest , as i sat through this movie mesmerized by just how incredibly awful it was , i actually forgot about the seemingly out of place opening until it popped up again later in the film . \n",
      "with the quality of the writing during the rest of the film , it wouldn't have surprised me if the opening had never been explained . \n",
      "so what is this movie about ? \n",
      "you ask . \n",
      "like it really matters . \n",
      "ok , here goes . \n",
      "this all-girl band headed by kelly macnamara ( dolly reed ) and her friends go to hollywood to try to gain a foothold in the music industry . \n",
      "once there , they do manage to find success ( due as much to their hooters as anything else ? it sure wasn't for their brutally bad singing voices ) , and the movie chronicles how their lives change for the worse as the pressures of fame get to them . \n",
      "everything from big egos , to booze and drugs to free flowing sex sends them on a downward spiral . \n",
      "there are a couple of other idiotic subplots thrown in for good measure , but the fame is the one that pretty much sums up this thing . \n",
      ">from a creative standpoint there is nothing redeeming here . \n",
      "other than the above-mentioned obsession with big knockers that russ meyer seemed to have . \n",
      "the dialogue is so incredibly bad that it literally is funny in parts . \n",
      "mr . ebert has generously thrown in helpings of \" hey man \" , \" dig \" and my all time favorite -- \" this is my happening , and it freaks me out \" . \n",
      "now i ask you , with lines like that how can you go wrong ? \n",
      "ebert had tried to inject as many big words as possible into the dialogue . \n",
      "maybe he thought it would make the movie seem smarter . \n",
      "i don't know , but all the big words in the world wouldn't be able to disguise the bad writing and even worse acting . \n",
      "but the wretched dialogue goes along well with the wretched quality of everything else in this movie . \n",
      "i've seen home movies directed better than meyer managed with this turkey . \n",
      "in fact , there is one scene -- the one in which they are in a van driving to hollywood to make their fortunes -- during which i really had to question if meyer or his editors had just suffered serious head injuries . \n",
      "add to the directing and writing the music in this movie . \n",
      "i almost got up to check my sound system to see if it was broken , there was such a pile of crap emanating from the speakers . \n",
      "then we have the cast . \n",
      "first lets start david gurian who played harris , the manager of the band . \n",
      "this has got to be the goofiest looking guy that has ever set foot in front of a motion picture camera . \n",
      "sadly , his acting doesn't come close to making up for his looks . \n",
      "if you have been following along up to this point , this shouldn't surprise you . \n",
      "meyer's stable of well endowed girls also have the benefit of being fairly attractive to go along with their other assets . \n",
      "dolly reed plays kelly , the leader of the band . \n",
      "and no surprise here , she was cast for her cup size , not her talents . \n",
      "and yes , she does loose the shirt a few times and display her impressive talents . \n",
      "sadly , her ass is almost as large as her chest . \n",
      "hey , it a sexist movie , so i'm writing a sexist review . \n",
      "then we have former playboy playmate cynthia myers in a fairly small role as casey , one of the other band members . \n",
      "this goes along with the rest of the idiotic thinking in the movie . \n",
      "meyer casts a gorgeous playmate with a rack to kill for and who obviously has no acting talent at all , but her nude scenes are the biggest disappointment of all . \n",
      "sure russ , now is the time to get artsy and throw in some well placed shadows . \n",
      "on the up side , she does have a fun lesbo scene . \n",
      "i sound like i'm writing a review in a porn magazine . \n",
      "but hey , i'll admit it ; the only reason that i actually managed to sit through this damn movie was to catch a look at cynthia myers naked . \n",
      "and since that was a huge disappointment , i pretty much wasted two hours of my life on this turkey . \n",
      "the only thing that i can say about this movie is that you should stay away from it . \n",
      "unless of course you want to feel good about yourself by knowing that even a pulitzer prize winning film critic like roger ebert has screwed up at least once in his life too . \n",
      "and if you are thinking of checking it out for the double d's -- you are better off just downloading nude cynthia myers pictures off the internet . \n",
      "this is a movie that should be avoided at all costs . \n",
      "an even better idea might be to require video stores to place a warning on the box of beyond the valley of the dolls -- beware : this movie is extremely hazardous to your common sense . \n",
      "proceed with extreme caution . \n",
      "\n"
     ]
    }
   ],
   "source": [
    "#print(len(alltxts),len(alllabs))\n",
    "print(alltxts[0])\n",
    "#print(alllabs[0])\n",
    "#print(alltxts[-1])\n",
    "#print(alllabs[0])"
   ]
  },
  {
   "cell_type": "markdown",
   "metadata": {},
   "source": [
    "# Transformation paramétrique du texte\n",
    "\n",
    "Vous devez tester, par exemple, les cas suivants:\n",
    "- transformation en minuscule ou pas\n",
    "- suppression de la ponctuation\n",
    "- transformation des mots entièrement en majuscule en marqueurs spécifiques\n",
    "- suppression des chiffres ou pas\n",
    "- conservation d'une partie du texte seulement (seulement la première ligne = titre, seulement la dernière ligne = résumé, ...)\n",
    "- stemming\n",
    "- ...\n",
    "\n",
    "\n",
    "Vérifier systématiquement sur un exemple ou deux le bon fonctionnement des méthodes sur deux documents (au moins un de chaque classe)."
   ]
  },
  {
   "cell_type": "code",
   "execution_count": 109,
   "metadata": {},
   "outputs": [
    {
     "name": "stdout",
     "output_type": "stream",
     "text": [
      "bad   bad    bad    that one word seems to pretty much sums up beyond the valley of the dolls    if that summary isn t enough for you   how about t a   t a   t a    still haven t got the point    other than director russ meyer s predilection for casting attractive large breasted women who ultimately expose the afore mentioned anatomical areas   there is really only one other reason to recommend even taking a look at this movie    that is the fact that it was co written by famed film critic roger ebert   who also was responsible for the screenplay    after watching this movie you will never be able to sit through another one of his reviews where he gives a movie a thumbs down for bad writing with a straight face    this movie stinks out loud    quite frankly   this movie deserves a    but there are parts of it that are so bad they are almost funny    so i m giving it a    and maybe that is too generous    right from the opening credits   i knew that i had a class a bomb on my hands    not only are the way the credits actually shot distracting   but the first scene you see includes a big breasted young woman being chased by a guy in a nazi uniform    i had absolutely no idea why the hell that was happening   it does get explained later   and as soon as the first scene is over   we cut to a completely unrelated scene    to be honest   as i sat through this movie mesmerized by just how incredibly awful it was   i actually forgot about the seemingly out of place opening until it popped up again later in the film    with the quality of the writing during the rest of the film   it wouldn t have surprised me if the opening had never been explained    so what is this movie about    you ask    like it really matters    ok   here goes    this all girl band headed by kelly macnamara   dolly reed   and her friends go to hollywood to try to gain a foothold in the music industry    once there   they do manage to find success   due as much to their hooters as anything else   it sure wasn t for their brutally bad singing voices     and the movie chronicles how their lives change for the worse as the pressures of fame get to them    everything from big egos   to booze and drugs to free flowing sex sends them on a downward spiral    there are a couple of other idiotic subplots thrown in for good measure   but the fame is the one that pretty much sums up this thing     from a creative standpoint there is nothing redeeming here    other than the above mentioned obsession with big knockers that russ meyer seemed to have    the dialogue is so incredibly bad that it literally is funny in parts    mr   ebert has generously thrown in helpings of   hey man       dig   and my all time favorite      this is my happening   and it freaks me out      now i ask you   with lines like that how can you go wrong    ebert had tried to inject as many big words as possible into the dialogue    maybe he thought it would make the movie seem smarter    i don t know   but all the big words in the world wouldn t be able to disguise the bad writing and even worse acting    but the wretched dialogue goes along well with the wretched quality of everything else in this movie    i ve seen home movies directed better than meyer managed with this turkey    in fact   there is one scene    the one in which they are in a van driving to hollywood to make their fortunes    during which i really had to question if meyer or his editors had just suffered serious head injuries    add to the directing and writing the music in this movie    i almost got up to check my sound system to see if it was broken   there was such a pile of crap emanating from the speakers    then we have the cast    first lets start david gurian who played harris   the manager of the band    this has got to be the goofiest looking guy that has ever set foot in front of a motion picture camera    sadly   his acting doesn t come close to making up for his looks    if you have been following along up to this point   this shouldn t surprise you    meyer s stable of well endowed girls also have the benefit of being fairly attractive to go along with their other assets    dolly reed plays kelly   the leader of the band    and no surprise here   she was cast for her cup size   not her talents    and yes   she does loose the shirt a few times and display her impressive talents    sadly   her ass is almost as large as her chest    hey   it a sexist movie   so i m writing a sexist review    then we have former playboy playmate cynthia myers in a fairly small role as casey   one of the other band members    this goes along with the rest of the idiotic thinking in the movie    meyer casts a gorgeous playmate with a rack to kill for and who obviously has no acting talent at all   but her nude scenes are the biggest disappointment of all    sure russ   now is the time to get artsy and throw in some well placed shadows    on the up side   she does have a fun lesbo scene    i sound like i m writing a review in a porn magazine    but hey   i ll admit it   the only reason that i actually managed to sit through this damn movie was to catch a look at cynthia myers naked    and since that was a huge disappointment   i pretty much wasted two hours of my life on this turkey    the only thing that i can say about this movie is that you should stay away from it    unless of course you want to feel good about yourself by knowing that even a pulitzer prize winning film critic like roger ebert has screwed up at least once in his life too    and if you are thinking of checking it out for the double d s    you are better off just downloading nude cynthia myers pictures off the internet    this is a movie that should be avoided at all costs    an even better idea might be to require video stores to place a warning on the box of beyond the valley of the dolls    beware   this movie is extremely hazardous to your common sense    proceed with extreme caution    \n"
     ]
    }
   ],
   "source": [
    "#Suppression de la ponctuation\n",
    "import string\n",
    "\n",
    "punc = string.punctuation  \n",
    "punc += '\\n\\r\\t'\n",
    "alltxts = [ txt.translate(str.maketrans(punc, ' ' * len(punc))) for txt in alltxts ]\n",
    "print(alltxts[0])\n"
   ]
  },
  {
   "cell_type": "code",
   "execution_count": 102,
   "metadata": {},
   "outputs": [
    {
     "name": "stdout",
     "output_type": "stream",
     "text": [
      "bad   bad    bad    that one word seems to pretty much sums up beyond the valley of the dolls    if that summary isn t enough for you   how about t a   t a   t a    still haven t got the point    other than director russ meyer s predilection for casting attractive large breasted women who ultimately expose the afore mentioned anatomical areas   there is really only one other reason to recommend even taking a look at this movie    that is the fact that it was co written by famed film critic roger ebert   who also was responsible for the screenplay    after watching this movie you will never be able to sit through another one of his reviews where he gives a movie a thumbs down for bad writing with a straight face    this movie stinks out loud    quite frankly   this movie deserves a    but there are parts of it that are so bad they are almost funny    so i m giving it a    and maybe that is too generous    right from the opening credits   i knew that i had a class a bomb on my hands    not only are the way the credits actually shot distracting   but the first scene you see includes a big breasted young woman being chased by a guy in a nazi uniform    i had absolutely no idea why the hell that was happening   it does get explained later   and as soon as the first scene is over   we cut to a completely unrelated scene    to be honest   as i sat through this movie mesmerized by just how incredibly awful it was   i actually forgot about the seemingly out of place opening until it popped up again later in the film    with the quality of the writing during the rest of the film   it wouldn t have surprised me if the opening had never been explained    so what is this movie about    you ask    like it really matters    ok   here goes    this all girl band headed by kelly macnamara   dolly reed   and her friends go to hollywood to try to gain a foothold in the music industry    once there   they do manage to find success   due as much to their hooters as anything else   it sure wasn t for their brutally bad singing voices     and the movie chronicles how their lives change for the worse as the pressures of fame get to them    everything from big egos   to booze and drugs to free flowing sex sends them on a downward spiral    there are a couple of other idiotic subplots thrown in for good measure   but the fame is the one that pretty much sums up this thing     from a creative standpoint there is nothing redeeming here    other than the above mentioned obsession with big knockers that russ meyer seemed to have    the dialogue is so incredibly bad that it literally is funny in parts    mr   ebert has generously thrown in helpings of   hey man       dig   and my all time favorite      this is my happening   and it freaks me out      now i ask you   with lines like that how can you go wrong    ebert had tried to inject as many big words as possible into the dialogue    maybe he thought it would make the movie seem smarter    i don t know   but all the big words in the world wouldn t be able to disguise the bad writing and even worse acting    but the wretched dialogue goes along well with the wretched quality of everything else in this movie    i ve seen home movies directed better than meyer managed with this turkey    in fact   there is one scene    the one in which they are in a van driving to hollywood to make their fortunes    during which i really had to question if meyer or his editors had just suffered serious head injuries    add to the directing and writing the music in this movie    i almost got up to check my sound system to see if it was broken   there was such a pile of crap emanating from the speakers    then we have the cast    first lets start david gurian who played harris   the manager of the band    this has got to be the goofiest looking guy that has ever set foot in front of a motion picture camera    sadly   his acting doesn t come close to making up for his looks    if you have been following along up to this point   this shouldn t surprise you    meyer s stable of well endowed girls also have the benefit of being fairly attractive to go along with their other assets    dolly reed plays kelly   the leader of the band    and no surprise here   she was cast for her cup size   not her talents    and yes   she does loose the shirt a few times and display her impressive talents    sadly   her ass is almost as large as her chest    hey   it a sexist movie   so i m writing a sexist review    then we have former playboy playmate cynthia myers in a fairly small role as casey   one of the other band members    this goes along with the rest of the idiotic thinking in the movie    meyer casts a gorgeous playmate with a rack to kill for and who obviously has no acting talent at all   but her nude scenes are the biggest disappointment of all    sure russ   now is the time to get artsy and throw in some well placed shadows    on the up side   she does have a fun lesbo scene    i sound like i m writing a review in a porn magazine    but hey   i ll admit it   the only reason that i actually managed to sit through this damn movie was to catch a look at cynthia myers naked    and since that was a huge disappointment   i pretty much wasted two hours of my life on this turkey    the only thing that i can say about this movie is that you should stay away from it    unless of course you want to feel good about yourself by knowing that even a pulitzer prize winning film critic like roger ebert has screwed up at least once in his life too    and if you are thinking of checking it out for the double d s    you are better off just downloading nude cynthia myers pictures off the internet    this is a movie that should be avoided at all costs    an even better idea might be to require video stores to place a warning on the box of beyond the valley of the dolls    beware   this movie is extremely hazardous to your common sense    proceed with extreme caution    \n"
     ]
    }
   ],
   "source": [
    "# suppress accent and all non normalized char\n",
    "import unicodedata\n",
    "\n",
    "alltxts = [unicodedata.normalize('NFD', txt).encode('ascii', 'ignore').decode(\"utf-8\") for txt in alltxts]\n",
    "alltxts = [ txt.lower() for txt in alltxts ]\n",
    "\n",
    "print(alltxts[0])"
   ]
  },
  {
   "cell_type": "code",
   "execution_count": 93,
   "metadata": {},
   "outputs": [
    {
     "name": "stdout",
     "output_type": "stream",
     "text": [
      "bad   bad    bad    that one word seems to pretty much sums up beyond the valley of the dolls    if that summary isn t enough for you   how about t a   t a   t a    still haven t got the point    other than director russ meyer s predilection for casting attractive large breasted women who ultimately expose the afore mentioned anatomical areas   there is really only one other reason to recommend even taking a look at this movie    that is the fact that it was co written by famed film critic roger ebert   who also was responsible for the screenplay    after watching this movie you will never be able to sit through another one of his reviews where he gives a movie a thumbs down for bad writing with a straight face    this movie stinks out loud    quite frankly   this movie deserves a    but there are parts of it that are so bad they are almost funny    so i m giving it a    and maybe that is too generous    right from the opening credits   i knew that i had a class a bomb on my hands    not only are the way the credits actually shot distracting   but the first scene you see includes a big breasted young woman being chased by a guy in a nazi uniform    i had absolutely no idea why the hell that was happening   it does get explained later   and as soon as the first scene is over   we cut to a completely unrelated scene    to be honest   as i sat through this movie mesmerized by just how incredibly awful it was   i actually forgot about the seemingly out of place opening until it popped up again later in the film    with the quality of the writing during the rest of the film   it wouldn t have surprised me if the opening had never been explained    so what is this movie about    you ask    like it really matters    ok   here goes    this all girl band headed by kelly macnamara   dolly reed   and her friends go to hollywood to try to gain a foothold in the music industry    once there   they do manage to find success   due as much to their hooters as anything else   it sure wasn t for their brutally bad singing voices     and the movie chronicles how their lives change for the worse as the pressures of fame get to them    everything from big egos   to booze and drugs to free flowing sex sends them on a downward spiral    there are a couple of other idiotic subplots thrown in for good measure   but the fame is the one that pretty much sums up this thing     from a creative standpoint there is nothing redeeming here    other than the above mentioned obsession with big knockers that russ meyer seemed to have    the dialogue is so incredibly bad that it literally is funny in parts    mr   ebert has generously thrown in helpings of   hey man       dig   and my all time favorite      this is my happening   and it freaks me out      now i ask you   with lines like that how can you go wrong    ebert had tried to inject as many big words as possible into the dialogue    maybe he thought it would make the movie seem smarter    i don t know   but all the big words in the world wouldn t be able to disguise the bad writing and even worse acting    but the wretched dialogue goes along well with the wretched quality of everything else in this movie    i ve seen home movies directed better than meyer managed with this turkey    in fact   there is one scene    the one in which they are in a van driving to hollywood to make their fortunes    during which i really had to question if meyer or his editors had just suffered serious head injuries    add to the directing and writing the music in this movie    i almost got up to check my sound system to see if it was broken   there was such a pile of crap emanating from the speakers    then we have the cast    first lets start david gurian who played harris   the manager of the band    this has got to be the goofiest looking guy that has ever set foot in front of a motion picture camera    sadly   his acting doesn t come close to making up for his looks    if you have been following along up to this point   this shouldn t surprise you    meyer s stable of well endowed girls also have the benefit of being fairly attractive to go along with their other assets    dolly reed plays kelly   the leader of the band    and no surprise here   she was cast for her cup size   not her talents    and yes   she does loose the shirt a few times and display her impressive talents    sadly   her ass is almost as large as her chest    hey   it a sexist movie   so i m writing a sexist review    then we have former playboy playmate cynthia myers in a fairly small role as casey   one of the other band members    this goes along with the rest of the idiotic thinking in the movie    meyer casts a gorgeous playmate with a rack to kill for and who obviously has no acting talent at all   but her nude scenes are the biggest disappointment of all    sure russ   now is the time to get artsy and throw in some well placed shadows    on the up side   she does have a fun lesbo scene    i sound like i m writing a review in a porn magazine    but hey   i ll admit it   the only reason that i actually managed to sit through this damn movie was to catch a look at cynthia myers naked    and since that was a huge disappointment   i pretty much wasted two hours of my life on this turkey    the only thing that i can say about this movie is that you should stay away from it    unless of course you want to feel good about yourself by knowing that even a pulitzer prize winning film critic like roger ebert has screwed up at least once in his life too    and if you are thinking of checking it out for the double d s    you are better off just downloading nude cynthia myers pictures off the internet    this is a movie that should be avoided at all costs    an even better idea might be to require video stores to place a warning on the box of beyond the valley of the dolls    beware   this movie is extremely hazardous to your common sense    proceed with extreme caution    \n"
     ]
    }
   ],
   "source": [
    "#Suppression chiffre\n",
    "import re\n",
    "\n",
    "alltxts = [ re.sub('[0-9]+', '', txt) for txt in alltxts ]\n",
    "print(alltxts[0])"
   ]
  },
  {
   "cell_type": "code",
   "execution_count": 7,
   "metadata": {},
   "outputs": [],
   "source": [
    "#Séparation données train et test \n",
    "from sklearn.model_selection import train_test_split\n",
    "alltxts_train, alltxts_test, alllabs_train, alllabs_test = train_test_split(alltxts, alllabs, test_size=0.33, random_state=0)"
   ]
  },
  {
   "cell_type": "markdown",
   "metadata": {},
   "source": [
    "# Extraction du vocabulaire\n",
    "\n",
    "Exploration préliminaire des jeux de données.\n",
    "\n",
    "- Quelle est la taille d'origine du vocabulaire?\n",
    "- Que reste-t-il si on ne garde que les 100 mots les plus fréquents? [word cloud]\n",
    "- Quels sont les 100 mots dont la fréquence documentaire est la plus grande? [word cloud]\n",
    "- Quels sont les 100 mots les plus discriminants au sens de odds ratio? [word cloud]\n",
    "- Quelle est la distribution d'apparition des mots (Zipf)\n",
    "- Quels sont les 100 bigrammes/trigrammes les plus fréquents?\n"
   ]
  },
  {
   "cell_type": "code",
   "execution_count": 34,
   "metadata": {},
   "outputs": [
    {
     "name": "stdout",
     "output_type": "stream",
     "text": [
      "[('', 323735), ('the', 51120), ('a', 25643), ('and', 23994), ('of', 23006), ('to', 21215), ('is', 16810), ('in', 14560), ('s', 12890), ('it', 10735), ('that', 10498), ('as', 7525), ('with', 7269), ('for', 6649), ('his', 6408), ('film', 6372), ('this', 6354), ('i', 5974), ('he', 5825), ('but', 5798)]\n"
     ]
    },
    {
     "data": {
      "image/png": "[encoded data removed]",
      "text/plain": [
       "<Figure size 432x288 with 1 Axes>"
      ]
     },
     "metadata": {
      "needs_background": "light"
     },
     "output_type": "display_data"
    }
   ],
   "source": [
    "import matplotlib.pyplot as plt\n",
    "%matplotlib inline\n",
    "\n",
    "from collections import Counter\n",
    "\n",
    "wc = Counter()\n",
    "for text in alltxts_train:\n",
    "    wc.update(text.split(\" \"))\n",
    "    \n",
    "freq = [f for w,f in wc.most_common(1000)]\n",
    "\n",
    "plt.plot(freq[:1000])\n",
    "print(wc.most_common(20))"
   ]
  },
  {
   "cell_type": "code",
   "execution_count": 64,
   "metadata": {},
   "outputs": [
    {
     "name": "stdout",
     "output_type": "stream",
     "text": [
      "['aa', 'aaa', 'aaaaaaaahhhh', 'aaaahhhs', 'aahs', 'aaliyah', 'aamir', 'aardman', 'aaron', 'aback', 'abandon', 'abandoned', 'abandoning', 'abandonment', 'abandons', 'abating', 'abba', 'abberation', 'abberline', 'abbots', 'abbott', 'abbotts', 'abby', 'abc', 'abdomen', 'abducted', 'abductees', 'abduction', 'abductions', 'abdul', 'abe', 'abel', 'aberdeen', 'aberration', 'abetted', 'abetting', 'abeyance', 'abhorrence', 'abhorrent', 'abider', 'abides', 'abiding', 'abigail', 'abiility', 'abilities', 'ability', 'abject', 'ablaze', 'able', 'ably']\n",
      "33362\n"
     ]
    },
    {
     "name": "stderr",
     "output_type": "stream",
     "text": [
      "/Users/antoinedegenne/opt/anaconda3/lib/python3.9/site-packages/sklearn/utils/deprecation.py:87: FutureWarning: Function get_feature_names is deprecated; get_feature_names is deprecated in 1.0 and will be removed in 1.2. Please use get_feature_names_out instead.\n",
      "  warnings.warn(msg, category=FutureWarning)\n"
     ]
    }
   ],
   "source": [
    "from sklearn.feature_extraction.text import CountVectorizer\n",
    "\n",
    "vectorizer = CountVectorizer()\n",
    "X = vectorizer.fit_transform(alltxts_train)\n",
    "print(vectorizer.get_feature_names()[:50])\n",
    "print(len(vectorizer.get_feature_names()))"
   ]
  },
  {
   "cell_type": "code",
   "execution_count": 36,
   "metadata": {},
   "outputs": [
    {
     "name": "stdout",
     "output_type": "stream",
     "text": [
      "Naïve Bayes accuracy: 0.8151515151515152\n",
      "Logistic Regression accuracy: 0.8151515151515152\n",
      "SVM accuracy: 0.8121212121212121\n"
     ]
    }
   ],
   "source": [
    "from sklearn.naive_bayes import MultinomialNB\n",
    "from sklearn.linear_model import LogisticRegression\n",
    "from sklearn.svm import LinearSVC\n",
    "from sklearn.metrics import accuracy_score\n",
    "\n",
    "#Naïve Bayes\n",
    "nb_clf = MultinomialNB()\n",
    "nb_clf.fit(X, alllabs_train)\n",
    "\n",
    "\n",
    "#Logistic Regression\n",
    "lr_clf = LogisticRegression(random_state=0, solver='lbfgs',n_jobs=-1,max_iter=1000)\n",
    "lr_clf.fit(X, alllabs_train)\n",
    "\n",
    "#Linear SVM\n",
    "svm_clf = LinearSVC(random_state=0, tol=1e-5)\n",
    "svm_clf.fit(X, alllabs_train)\n",
    "\n",
    "X_test = vectorizer.transform(alltxts_test)\n",
    "\n",
    "pred_nb = nb_clf.predict(X_test)\n",
    "pred_lr = lr_clf.predict(X_test)\n",
    "pred_svm = svm_clf.predict(X_test)\n",
    "\n",
    "\n",
    "print(f\"Naïve Bayes accuracy: {accuracy_score(alllabs_test, pred_nb)}\")\n",
    "print(f\"Logistic Regression accuracy: {accuracy_score(alllabs_test, pred_lr)}\")\n",
    "print(f\"SVM accuracy: {accuracy_score(alllabs_test, pred_svm)}\")"
   ]
  },
  {
   "cell_type": "code",
   "execution_count": 37,
   "metadata": {},
   "outputs": [
    {
     "name": "stdout",
     "output_type": "stream",
     "text": [
      "{'these', 'up', 'only', 'how', 'doesn', 'wouldn', 'than', 'been', \"wasn't\", 'himself', 'our', 'i', 'am', 'down', 'will', \"aren't\", \"you're\", 'under', 'its', 'should', 'having', 'to', 'here', 'then', 'mightn', 'those', 'does', 'he', 'very', 'off', 'shouldn', 'they', 'is', 'if', 'before', 'hasn', \"shouldn't\", 'between', \"you'll\", 'this', 'just', 'at', 'most', 'you', 'from', 'a', 't', 'wasn', 'until', 'him', 'against', 'on', 'after', 'won', 'don', 'was', 'once', 'hadn', 'few', 'were', 'not', 'of', 'needn', 'through', 'shan', 'she', 'as', 'which', 're', 'for', \"needn't\", \"couldn't\", 'being', 'why', 'there', 'can', 'now', \"you'd\", 'yours', 'aren', 'mustn', 'doing', \"mightn't\", 'themselves', 'again', 'her', 'didn', 'are', 'their', 'couldn', \"you've\", 'has', \"shan't\", 'do', 'same', \"doesn't\", 'above', 'both', 'what', 'theirs', 'ain', \"hasn't\", 'itself', 'them', 'ourselves', 'yourselves', 'yourself', 'it', 'your', 'we', 'own', 'did', 'when', 'such', 'me', 'be', \"didn't\", \"don't\", 'into', 'm', 'so', 'that', 'where', 've', 'in', 'more', \"wouldn't\", 'all', 'by', 'had', \"weren't\", 'during', 'who', 'because', 'below', 'any', 'over', \"hadn't\", 'no', \"should've\", 'herself', 'my', 'hers', 'whom', 'further', 'but', \"haven't\", \"isn't\", 'nor', \"that'll\", 'with', 'll', 'an', 'his', 'ma', 'out', 'and', 'd', 'other', 'some', 's', 'haven', 'o', 'too', \"mustn't\", \"she's\", 'ours', 'while', 'each', \"it's\", 'myself', 'about', 'weren', \"won't\", 'have', 'isn', 'or', 'y', 'the'}\n"
     ]
    },
    {
     "name": "stderr",
     "output_type": "stream",
     "text": [
      "[nltk_data] Downloading package stopwords to\n",
      "[nltk_data]     /Users/antoinedegenne/nltk_data...\n",
      "[nltk_data]   Package stopwords is already up-to-date!\n"
     ]
    }
   ],
   "source": [
    "#Get stop words\n",
    "import nltk\n",
    "from nltk.corpus import stopwords\n",
    "\n",
    "nltk.download('stopwords')\n",
    "stops = set(stopwords.words('english'))\n",
    "print(stops)\n",
    "\n"
   ]
  },
  {
   "cell_type": "code",
   "execution_count": 38,
   "metadata": {},
   "outputs": [
    {
     "name": "stdout",
     "output_type": "stream",
     "text": [
      "['aa', 'aaa', 'aaaaaaaahhhh', 'aaaahhhs', 'aahs', 'aaliyah', 'aamir', 'aardman', 'aaron', 'aback', 'abandon', 'abandoned', 'abandoning', 'abandonment', 'abandons', 'abating', 'abba', 'abberation', 'abberline', 'abbots', 'abbott', 'abbotts', 'abby', 'abc', 'abdomen', 'abducted', 'abductees', 'abduction', 'abductions', 'abdul', 'abe', 'abel', 'aberdeen', 'aberration', 'abetted', 'abetting', 'abeyance', 'abhorrence', 'abhorrent', 'abider', 'abides', 'abiding', 'abigail', 'abiility', 'abilities', 'ability', 'abject', 'ablaze', 'able', 'ably']\n"
     ]
    },
    {
     "name": "stderr",
     "output_type": "stream",
     "text": [
      "/Users/antoinedegenne/opt/anaconda3/lib/python3.9/site-packages/sklearn/utils/deprecation.py:87: FutureWarning: Function get_feature_names is deprecated; get_feature_names is deprecated in 1.0 and will be removed in 1.2. Please use get_feature_names_out instead.\n",
      "  warnings.warn(msg, category=FutureWarning)\n"
     ]
    }
   ],
   "source": [
    "\n",
    "vectorizer = CountVectorizer(stop_words=stops)\n",
    "X = vectorizer.fit_transform(alltxts_train)\n",
    "print(vectorizer.get_feature_names()[:50])"
   ]
  },
  {
   "cell_type": "code",
   "execution_count": 39,
   "metadata": {},
   "outputs": [
    {
     "name": "stdout",
     "output_type": "stream",
     "text": [
      "Naïve Bayes accuracy: 0.8121212121212121\n",
      "Logistic Regression accuracy: 0.8106060606060606\n",
      "SVM accuracy: 0.8045454545454546\n"
     ]
    }
   ],
   "source": [
    "#Naïve Bayes\n",
    "nb_clf = MultinomialNB()\n",
    "nb_clf.fit(X, alllabs_train)\n",
    "\n",
    "\n",
    "#Logistic Regression\n",
    "lr_clf = LogisticRegression(random_state=0, solver='lbfgs',n_jobs=-1,max_iter=1000)\n",
    "lr_clf.fit(X, alllabs_train)\n",
    "\n",
    "#Linear SVM\n",
    "svm_clf = LinearSVC(random_state=0, tol=1e-5)\n",
    "svm_clf.fit(X, alllabs_train)\n",
    "\n",
    "X_test = vectorizer.transform(alltxts_test)\n",
    "\n",
    "pred_nb = nb_clf.predict(X_test)\n",
    "pred_lr = lr_clf.predict(X_test)\n",
    "pred_svm = svm_clf.predict(X_test)\n",
    "\n",
    "\n",
    "print(f\"Naïve Bayes accuracy: {accuracy_score(alllabs_test, pred_nb)}\")\n",
    "print(f\"Logistic Regression accuracy: {accuracy_score(alllabs_test, pred_lr)}\")\n",
    "print(f\"SVM accuracy: {accuracy_score(alllabs_test, pred_svm)}\")"
   ]
  },
  {
   "cell_type": "code",
   "execution_count": 40,
   "metadata": {},
   "outputs": [
    {
     "name": "stderr",
     "output_type": "stream",
     "text": [
      "/Users/antoinedegenne/opt/anaconda3/lib/python3.9/site-packages/sklearn/utils/deprecation.py:87: FutureWarning: Function get_feature_names is deprecated; get_feature_names is deprecated in 1.0 and will be removed in 1.2. Please use get_feature_names_out instead.\n",
      "  warnings.warn(msg, category=FutureWarning)\n"
     ]
    },
    {
     "name": "stdout",
     "output_type": "stream",
     "text": [
      "['aa meetings', 'aaa minor', 'aaa team', 'aaaaaaaahhhh plot', 'aaaahhhs wows', 'aahs pixar', 'aaliyah impressive', 'aamir khan', 'aardman animation', 'aaron convincing', 'aaron determined', 'aaron eckhart', 'aaron edward', 'aaron gets', 'aaron moor', 'aaron schneider', 'aaron steve', 'aaron williams', 'aback honesty', 'aback unusual', 'abandon alien', 'abandon conviction', 'abandon creation', 'abandon depth', 'abandon farm', 'abandon figured', 'abandon film', 'abandon much', 'abandon naturally', 'abandon preview', 'abandon principle', 'abandon rejecting', 'abandon ship', 'abandon sure', 'abandon unique', 'abandoned adopted', 'abandoned air', 'abandoned alone', 'abandoned altar', 'abandoned beaten', 'abandoned boredom', 'abandoned building', 'abandoned buildings', 'abandoned child', 'abandoned church', 'abandoned cruiser', 'abandoned danvers', 'abandoned father', 'abandoned girlfriend', 'abandoned highway']\n"
     ]
    }
   ],
   "source": [
    "\n",
    "vectorizer = CountVectorizer(stop_words=stops,ngram_range=(2,2),analyzer='word')\n",
    "X = vectorizer.fit_transform(alltxts_train)\n",
    "print(vectorizer.get_feature_names()[:50])"
   ]
  },
  {
   "cell_type": "code",
   "execution_count": 41,
   "metadata": {},
   "outputs": [
    {
     "name": "stdout",
     "output_type": "stream",
     "text": [
      "Naïve Bayes accuracy: 0.7803030303030303\n",
      "Logistic Regression accuracy: 0.7575757575757576\n",
      "SVM accuracy: 0.7545454545454545\n"
     ]
    }
   ],
   "source": [
    "\n",
    "#Naïve Bayes\n",
    "nb_clf = MultinomialNB()\n",
    "nb_clf.fit(X, alllabs_train)\n",
    "\n",
    "\n",
    "#Logistic Regression\n",
    "lr_clf = LogisticRegression(random_state=0, solver='lbfgs',n_jobs=-1,max_iter=1000)\n",
    "lr_clf.fit(X, alllabs_train)\n",
    "\n",
    "#Linear SVM\n",
    "svm_clf = LinearSVC(random_state=0, tol=1e-5)\n",
    "svm_clf.fit(X, alllabs_train)\n",
    "\n",
    "X_test = vectorizer.transform(alltxts_test)\n",
    "\n",
    "pred_nb = nb_clf.predict(X_test)\n",
    "pred_lr = lr_clf.predict(X_test)\n",
    "pred_svm = svm_clf.predict(X_test)\n",
    "\n",
    "\n",
    "print(f\"Naïve Bayes accuracy: {accuracy_score(alllabs_test, pred_nb)}\")\n",
    "print(f\"Logistic Regression accuracy: {accuracy_score(alllabs_test, pred_lr)}\")\n",
    "print(f\"SVM accuracy: {accuracy_score(alllabs_test, pred_svm)}\")"
   ]
  },
  {
   "cell_type": "markdown",
   "metadata": {},
   "source": [
    "Question qui devient de plus en plus intéressante avec les approches modernes:\n",
    "est-il possible d'extraire des tri-grammes de lettres pour représenter nos documents?\n",
    "\n",
    "Quelle performances attendrent? Quels sont les avantages et les inconvénients d'une telle approche?"
   ]
  },
  {
   "cell_type": "code",
   "execution_count": 42,
   "metadata": {},
   "outputs": [
    {
     "name": "stdout",
     "output_type": "stream",
     "text": [
      "['\\x05\\x05e', '\\x05 h', '\\x05 t', '\\x05eu', '\\x05wh', '\\x12 u', '\\x12ll', '\\x12m ', '\\x12re', '\\x12s ', '\\x12t ', '\\x13ea', '\\x13go', '\\x13if', '\\x13ri', '\\x13su', '\\x13th', '\\x13wh', '\\x14 a', '\\x14 h', '\\x14 i', '\\x14 l', '\\x14 t', '\\x14 w', '\\x16 a', '\\x16 b', '\\x16 d', '\\x16 p', '\\x16 r', '\\x16 t', ' \\x05 ', ' \\x13e', ' \\x13g', ' \\x13i', ' \\x13r', ' \\x13s', ' \\x13t', ' \\x13w', ' \\x14 ', ' \\x16 ', ' a ', ' aa', ' ab', ' ac', ' ad', ' ae', ' af', ' ag', ' ah', ' ai', ' aj', ' ak', ' al', ' am', ' an', ' ao', ' ap', ' aq', ' ar', ' as', ' at', ' au', ' av', ' aw', ' ax', ' ay', ' az', ' b ', ' ba', ' bb', ' be', ' bi', ' bl', ' bm', ' bo', ' bp', ' br', ' bs', ' bt', ' bu', ' by', ' c ', ' ca', ' cb', ' cd', ' ce', ' cg', ' ch', ' ci', ' ck', ' cl', ' cm', ' cn', ' co', ' cp', ' cr', ' cs', ' cu', ' cy', ' cz', ' d ', ' da', ' dc', ' de', ' dg', ' dh', ' di', ' dj', ' dl', ' dm', ' dn', ' do', ' dr', ' dt', ' du', ' dv', ' dw', ' dy', ' dz', ' e ', ' ea', ' eb', ' ec', ' ed', ' ee', ' ef', ' eg', ' eh', ' ei', ' ej', ' ek', ' el', ' em', ' en', ' eo', ' ep', ' eq', ' er', ' es', ' et', ' eu', ' ev', ' ew', ' ex', ' ey', ' ez', ' f ', ' fa', ' fb', ' fc', ' fe', ' ff', ' fi', ' fl', ' fo', ' fr', ' fs', ' fu', ' fx', ' g ', ' ga', ' gb', ' gd', ' ge', ' gh', ' gi', ' gl', ' gm', ' gn', ' go', ' gp', ' gq', ' gr', ' gt', ' gu', ' gw', ' gy', ' h ', ' ha', ' hb', ' hc', ' he', ' hf', ' hi', ' hk', ' hm', ' ho', ' hr', ' hs', ' ht', ' hu', ' hy', ' i\\x12', ' i ', ' ia', ' ib', ' ic', ' id', ' ie', ' if', ' ig', ' ih', ' ii', ' ik', ' il', ' im', ' in', ' io', ' ip', ' iq', ' ir', ' is', ' it', ' iu', ' iv', ' iw', ' ix', ' iz', ' j ', ' ja', ' jb', ' je', ' jf', ' jh', ' ji', ' jn', ' jo', ' jr', ' ju', ' k ', ' ka', ' ke', ' kf', ' kg', ' kh', ' ki', ' kj', ' kk', ' kl', ' kn', ' ko', ' kr', ' ku', ' kw', ' ky', ' l ', ' la', ' lb', ' ld', ' le', ' lf', ' lh', ' li', ' ll', ' lo', ' lr', ' ls', ' lt', ' lu', ' lv', ' ly', ' m ', ' ma', ' mb', ' mc', ' md', ' me', ' mf', ' mg', ' mi', ' mk', ' ml', ' mm', ' mn', ' mo', ' mp', ' mr', ' ms', ' mt', ' mu', ' my', ' n ', ' na', ' nb', ' nc', ' nd', ' ne', ' nf', ' ni', ' no', ' ns', ' nt', ' nu', ' ny', ' nz', ' o ', ' oa', ' ob', ' oc', ' od', ' oe', ' of', ' og', ' oh', ' oi', ' oj', ' ok', ' ol', ' om', ' on', ' oo', ' op', ' or', ' os', ' ot', ' ou', ' ov', ' ow', ' ox', ' oz', ' p ', ' pa', ' pb', ' pc', ' pd', ' pe', ' pf', ' pg', ' ph', ' pi', ' pk', ' pl', ' pm', ' pn', ' po', ' pp', ' pr', ' ps', ' pt', ' pu', ' pv', ' py', ' q ', ' qb', ' qe', ' qi', ' qt', ' qu', ' r ', ' ra', ' rd', ' re', ' rh', ' ri', ' rk', ' rm', ' ro', ' ru', ' rv', ' ry', ' rz', ' s ', ' sa', ' sc', ' se', ' sf', ' sg', ' sh', ' si', ' sk', ' sl', ' sm', ' sn', ' so', ' sp', ' sq', ' ss', ' st', ' su', ' sv', ' sw', ' sy', ' sz', ' t ', ' ta', ' tb', ' tc', ' te', ' tg', ' th', ' ti', ' tm', ' tn', ' to', ' tp', ' tr', ' ts', ' tu', ' tv', ' tw', ' ty', ' tz', ' u ', ' ua', ' ub', ' uc', ' ud', ' ue', ' uf', ' ug', ' uh', ' uk', ' ul', ' um', ' un', ' up', ' ur', ' us', ' ut', ' uu', ' uv', ' uz', ' v ', ' va', ' vc', ' ve', ' vh', ' vi', ' vj', ' vl', ' vo', ' vr', ' vs', ' vu', ' vy', ' w ', ' wa', ' wb', ' wc', ' wd', ' we', ' wg', ' wh', ' wi', ' wk', ' wo', ' wr', ' ws', ' wu', ' ww', ' wy', ' x ', ' xa', ' xe', ' xf', ' xi', ' xm', ' xu', ' xv', ' xx', ' y ', ' ya', ' ye', ' yg', ' yi', ' yk', ' ym', ' yo', ' yu', ' yv', ' yz', ' z ', ' za', ' zd', ' ze', ' zh', ' zi', ' zo', ' zs', ' zu', ' zw', ' zy', ' zz', 'a a', 'a b', 'a c', 'a d', 'a e', 'a f', 'a g', 'a h', 'a i', 'a j', 'a k', 'a l', 'a m', 'a n', 'a o', 'a p', 'a q']\n"
     ]
    },
    {
     "name": "stderr",
     "output_type": "stream",
     "text": [
      "/Users/antoinedegenne/opt/anaconda3/lib/python3.9/site-packages/sklearn/utils/deprecation.py:87: FutureWarning: Function get_feature_names is deprecated; get_feature_names is deprecated in 1.0 and will be removed in 1.2. Please use get_feature_names_out instead.\n",
      "  warnings.warn(msg, category=FutureWarning)\n"
     ]
    }
   ],
   "source": [
    "\n",
    "vectorizer = CountVectorizer(stop_words=stops,ngram_range=(3,3),analyzer='char')\n",
    "X = vectorizer.fit_transform(alltxts_train)\n",
    "print(vectorizer.get_feature_names()[:50])"
   ]
  },
  {
   "cell_type": "code",
   "execution_count": 43,
   "metadata": {},
   "outputs": [
    {
     "name": "stderr",
     "output_type": "stream",
     "text": [
      "/Users/antoinedegenne/opt/anaconda3/lib/python3.9/site-packages/sklearn/svm/_base.py:1206: ConvergenceWarning: Liblinear failed to converge, increase the number of iterations.\n",
      "  warnings.warn(\n"
     ]
    },
    {
     "name": "stdout",
     "output_type": "stream",
     "text": [
      "Naïve Bayes accuracy: 0.753030303030303\n",
      "Logistic Regression accuracy: 0.7636363636363637\n",
      "SVM accuracy: 0.7515151515151515\n"
     ]
    }
   ],
   "source": [
    "\n",
    "#Naïve Bayes\n",
    "nb_clf = MultinomialNB()\n",
    "nb_clf.fit(X, alllabs_train)\n",
    "\n",
    "\n",
    "#Logistic Regression\n",
    "lr_clf = LogisticRegression(random_state=0, solver='lbfgs',n_jobs=-1,max_iter=1000)\n",
    "lr_clf.fit(X, alllabs_train)\n",
    "\n",
    "#Linear SVM\n",
    "svm_clf = LinearSVC(random_state=0, tol=1e-5)\n",
    "svm_clf.fit(X, alllabs_train)\n",
    "\n",
    "X_test = vectorizer.transform(alltxts_test)\n",
    "\n",
    "pred_nb = nb_clf.predict(X_test)\n",
    "pred_lr = lr_clf.predict(X_test)\n",
    "pred_svm = svm_clf.predict(X_test)\n",
    "\n",
    "\n",
    "print(f\"Naïve Bayes accuracy: {accuracy_score(alllabs_test, pred_nb)}\")\n",
    "print(f\"Logistic Regression accuracy: {accuracy_score(alllabs_test, pred_lr)}\")\n",
    "print(f\"SVM accuracy: {accuracy_score(alllabs_test, pred_svm)}\")"
   ]
  },
  {
   "cell_type": "code",
   "execution_count": 75,
   "metadata": {},
   "outputs": [
    {
     "name": "stdout",
     "output_type": "stream",
     "text": [
      "['able', 'about', 'acting', 'action', 'actor', 'actors', 'actually', 'after', 'again', 'against', 'alien', 'all', 'almost', 'along', 'already', 'also', 'although', 'always', 'american', 'an', 'and', 'another', 'any', 'anyone', 'anything', 'are', 'around', 'as', 'at', 'attempt', 'audience', 'away', 'back', 'bad', 'based', 'be', 'beautiful', 'because', 'become', 'becomes', 'been', 'before', 'begins', 'behind', 'being', 'believe', 'best', 'better', 'between', 'big']\n"
     ]
    },
    {
     "name": "stderr",
     "output_type": "stream",
     "text": [
      "/Users/antoinedegenne/opt/anaconda3/lib/python3.9/site-packages/sklearn/utils/deprecation.py:87: FutureWarning: Function get_feature_names is deprecated; get_feature_names is deprecated in 1.0 and will be removed in 1.2. Please use get_feature_names_out instead.\n",
      "  warnings.warn(msg, category=FutureWarning)\n"
     ]
    }
   ],
   "source": [
    "vectorizer = CountVectorizer(max_df=1000000,min_df=1,max_features=500) #try out some values\n",
    "X = vectorizer.fit_transform(alltxts_train)\n",
    "print(vectorizer.get_feature_names()[:50])"
   ]
  },
  {
   "cell_type": "code",
   "execution_count": 76,
   "metadata": {},
   "outputs": [
    {
     "name": "stderr",
     "output_type": "stream",
     "text": [
      "/Users/antoinedegenne/opt/anaconda3/lib/python3.9/site-packages/sklearn/svm/_base.py:1206: ConvergenceWarning: Liblinear failed to converge, increase the number of iterations.\n",
      "  warnings.warn(\n"
     ]
    },
    {
     "name": "stdout",
     "output_type": "stream",
     "text": [
      "Naïve Bayes accuracy: 0.746969696969697\n",
      "Logistic Regression accuracy: 0.7484848484848485\n",
      "SVM accuracy: 0.740909090909091\n"
     ]
    }
   ],
   "source": [
    "\n",
    "#Naïve Bayes\n",
    "nb_clf = MultinomialNB()\n",
    "nb_clf.fit(X, alllabs_train)\n",
    "\n",
    "\n",
    "#Logistic Regression\n",
    "lr_clf = LogisticRegression(random_state=0, solver='lbfgs',n_jobs=-1,max_iter=1000)\n",
    "lr_clf.fit(X, alllabs_train)\n",
    "\n",
    "#Linear SVM\n",
    "svm_clf = LinearSVC(random_state=0, tol=1e-5)\n",
    "svm_clf.fit(X, alllabs_train)\n",
    "\n",
    "X_test = vectorizer.transform(alltxts_test)\n",
    "\n",
    "pred_nb = nb_clf.predict(X_test)\n",
    "pred_lr = lr_clf.predict(X_test)\n",
    "pred_svm = svm_clf.predict(X_test)\n",
    "\n",
    "\n",
    "print(f\"Naïve Bayes accuracy: {accuracy_score(alllabs_test, pred_nb)}\")\n",
    "print(f\"Logistic Regression accuracy: {accuracy_score(alllabs_test, pred_lr)}\")\n",
    "print(f\"SVM accuracy: {accuracy_score(alllabs_test, pred_svm)}\")"
   ]
  },
  {
   "cell_type": "code",
   "execution_count": 80,
   "metadata": {},
   "outputs": [
    {
     "name": "stderr",
     "output_type": "stream",
     "text": [
      "/Users/antoinedegenne/opt/anaconda3/lib/python3.9/site-packages/sklearn/svm/_base.py:1206: ConvergenceWarning: Liblinear failed to converge, increase the number of iterations.\n",
      "  warnings.warn(\n",
      "/Users/antoinedegenne/opt/anaconda3/lib/python3.9/site-packages/sklearn/svm/_base.py:1206: ConvergenceWarning: Liblinear failed to converge, increase the number of iterations.\n",
      "  warnings.warn(\n",
      "/Users/antoinedegenne/opt/anaconda3/lib/python3.9/site-packages/sklearn/svm/_base.py:1206: ConvergenceWarning: Liblinear failed to converge, increase the number of iterations.\n",
      "  warnings.warn(\n",
      "/Users/antoinedegenne/opt/anaconda3/lib/python3.9/site-packages/sklearn/svm/_base.py:1206: ConvergenceWarning: Liblinear failed to converge, increase the number of iterations.\n",
      "  warnings.warn(\n",
      "/Users/antoinedegenne/opt/anaconda3/lib/python3.9/site-packages/sklearn/svm/_base.py:1206: ConvergenceWarning: Liblinear failed to converge, increase the number of iterations.\n",
      "  warnings.warn(\n",
      "/Users/antoinedegenne/opt/anaconda3/lib/python3.9/site-packages/sklearn/svm/_base.py:1206: ConvergenceWarning: Liblinear failed to converge, increase the number of iterations.\n",
      "  warnings.warn(\n",
      "/Users/antoinedegenne/opt/anaconda3/lib/python3.9/site-packages/sklearn/svm/_base.py:1206: ConvergenceWarning: Liblinear failed to converge, increase the number of iterations.\n",
      "  warnings.warn(\n",
      "/Users/antoinedegenne/opt/anaconda3/lib/python3.9/site-packages/sklearn/svm/_base.py:1206: ConvergenceWarning: Liblinear failed to converge, increase the number of iterations.\n",
      "  warnings.warn(\n",
      "/Users/antoinedegenne/opt/anaconda3/lib/python3.9/site-packages/sklearn/svm/_base.py:1206: ConvergenceWarning: Liblinear failed to converge, increase the number of iterations.\n",
      "  warnings.warn(\n",
      "/Users/antoinedegenne/opt/anaconda3/lib/python3.9/site-packages/sklearn/svm/_base.py:1206: ConvergenceWarning: Liblinear failed to converge, increase the number of iterations.\n",
      "  warnings.warn(\n",
      "/Users/antoinedegenne/opt/anaconda3/lib/python3.9/site-packages/sklearn/svm/_base.py:1206: ConvergenceWarning: Liblinear failed to converge, increase the number of iterations.\n",
      "  warnings.warn(\n",
      "/Users/antoinedegenne/opt/anaconda3/lib/python3.9/site-packages/sklearn/svm/_base.py:1206: ConvergenceWarning: Liblinear failed to converge, increase the number of iterations.\n",
      "  warnings.warn(\n",
      "/Users/antoinedegenne/opt/anaconda3/lib/python3.9/site-packages/sklearn/svm/_base.py:1206: ConvergenceWarning: Liblinear failed to converge, increase the number of iterations.\n",
      "  warnings.warn(\n",
      "/Users/antoinedegenne/opt/anaconda3/lib/python3.9/site-packages/sklearn/svm/_base.py:1206: ConvergenceWarning: Liblinear failed to converge, increase the number of iterations.\n",
      "  warnings.warn(\n",
      "/Users/antoinedegenne/opt/anaconda3/lib/python3.9/site-packages/sklearn/svm/_base.py:1206: ConvergenceWarning: Liblinear failed to converge, increase the number of iterations.\n",
      "  warnings.warn(\n",
      "/Users/antoinedegenne/opt/anaconda3/lib/python3.9/site-packages/sklearn/svm/_base.py:1206: ConvergenceWarning: Liblinear failed to converge, increase the number of iterations.\n",
      "  warnings.warn(\n",
      "/Users/antoinedegenne/opt/anaconda3/lib/python3.9/site-packages/sklearn/svm/_base.py:1206: ConvergenceWarning: Liblinear failed to converge, increase the number of iterations.\n",
      "  warnings.warn(\n",
      "/Users/antoinedegenne/opt/anaconda3/lib/python3.9/site-packages/sklearn/svm/_base.py:1206: ConvergenceWarning: Liblinear failed to converge, increase the number of iterations.\n",
      "  warnings.warn(\n",
      "/Users/antoinedegenne/opt/anaconda3/lib/python3.9/site-packages/sklearn/svm/_base.py:1206: ConvergenceWarning: Liblinear failed to converge, increase the number of iterations.\n",
      "  warnings.warn(\n",
      "/Users/antoinedegenne/opt/anaconda3/lib/python3.9/site-packages/sklearn/svm/_base.py:1206: ConvergenceWarning: Liblinear failed to converge, increase the number of iterations.\n",
      "  warnings.warn(\n",
      "/Users/antoinedegenne/opt/anaconda3/lib/python3.9/site-packages/sklearn/svm/_base.py:1206: ConvergenceWarning: Liblinear failed to converge, increase the number of iterations.\n",
      "  warnings.warn(\n",
      "/Users/antoinedegenne/opt/anaconda3/lib/python3.9/site-packages/sklearn/svm/_base.py:1206: ConvergenceWarning: Liblinear failed to converge, increase the number of iterations.\n",
      "  warnings.warn(\n",
      "/Users/antoinedegenne/opt/anaconda3/lib/python3.9/site-packages/sklearn/svm/_base.py:1206: ConvergenceWarning: Liblinear failed to converge, increase the number of iterations.\n",
      "  warnings.warn(\n",
      "/Users/antoinedegenne/opt/anaconda3/lib/python3.9/site-packages/sklearn/svm/_base.py:1206: ConvergenceWarning: Liblinear failed to converge, increase the number of iterations.\n",
      "  warnings.warn(\n",
      "/Users/antoinedegenne/opt/anaconda3/lib/python3.9/site-packages/sklearn/svm/_base.py:1206: ConvergenceWarning: Liblinear failed to converge, increase the number of iterations.\n",
      "  warnings.warn(\n",
      "/Users/antoinedegenne/opt/anaconda3/lib/python3.9/site-packages/sklearn/svm/_base.py:1206: ConvergenceWarning: Liblinear failed to converge, increase the number of iterations.\n",
      "  warnings.warn(\n",
      "/Users/antoinedegenne/opt/anaconda3/lib/python3.9/site-packages/sklearn/svm/_base.py:1206: ConvergenceWarning: Liblinear failed to converge, increase the number of iterations.\n",
      "  warnings.warn(\n",
      "/Users/antoinedegenne/opt/anaconda3/lib/python3.9/site-packages/sklearn/svm/_base.py:1206: ConvergenceWarning: Liblinear failed to converge, increase the number of iterations.\n",
      "  warnings.warn(\n",
      "/Users/antoinedegenne/opt/anaconda3/lib/python3.9/site-packages/sklearn/svm/_base.py:1206: ConvergenceWarning: Liblinear failed to converge, increase the number of iterations.\n",
      "  warnings.warn(\n",
      "/Users/antoinedegenne/opt/anaconda3/lib/python3.9/site-packages/sklearn/svm/_base.py:1206: ConvergenceWarning: Liblinear failed to converge, increase the number of iterations.\n",
      "  warnings.warn(\n",
      "/Users/antoinedegenne/opt/anaconda3/lib/python3.9/site-packages/sklearn/svm/_base.py:1206: ConvergenceWarning: Liblinear failed to converge, increase the number of iterations.\n",
      "  warnings.warn(\n",
      "/Users/antoinedegenne/opt/anaconda3/lib/python3.9/site-packages/sklearn/svm/_base.py:1206: ConvergenceWarning: Liblinear failed to converge, increase the number of iterations.\n",
      "  warnings.warn(\n",
      "/Users/antoinedegenne/opt/anaconda3/lib/python3.9/site-packages/sklearn/svm/_base.py:1206: ConvergenceWarning: Liblinear failed to converge, increase the number of iterations.\n",
      "  warnings.warn(\n",
      "/Users/antoinedegenne/opt/anaconda3/lib/python3.9/site-packages/sklearn/svm/_base.py:1206: ConvergenceWarning: Liblinear failed to converge, increase the number of iterations.\n",
      "  warnings.warn(\n",
      "/Users/antoinedegenne/opt/anaconda3/lib/python3.9/site-packages/sklearn/svm/_base.py:1206: ConvergenceWarning: Liblinear failed to converge, increase the number of iterations.\n",
      "  warnings.warn(\n",
      "/Users/antoinedegenne/opt/anaconda3/lib/python3.9/site-packages/sklearn/svm/_base.py:1206: ConvergenceWarning: Liblinear failed to converge, increase the number of iterations.\n",
      "  warnings.warn(\n",
      "/Users/antoinedegenne/opt/anaconda3/lib/python3.9/site-packages/sklearn/svm/_base.py:1206: ConvergenceWarning: Liblinear failed to converge, increase the number of iterations.\n",
      "  warnings.warn(\n",
      "/Users/antoinedegenne/opt/anaconda3/lib/python3.9/site-packages/sklearn/svm/_base.py:1206: ConvergenceWarning: Liblinear failed to converge, increase the number of iterations.\n",
      "  warnings.warn(\n"
     ]
    }
   ],
   "source": [
    "svm = []\n",
    "for k in range(1,10000,100):\n",
    "    print(k)\n",
    "    vectorizer = CountVectorizer(max_df=1000000,min_df=1,max_features=k) #try out some values\n",
    "    X = vectorizer.fit_transform(alltxts_train)\n",
    "    svm_clf = LinearSVC(random_state=0, tol=1e-5)\n",
    "    svm_clf.fit(X, alllabs_train)\n",
    "    X_test = vectorizer.transform(alltxts_test)\n",
    "    pred_svm = svm_clf.predict(X_test)\n",
    "    svm.append(accuracy_score(alllabs_test, pred_svm))"
   ]
  },
  {
   "cell_type": "code",
   "execution_count": 82,
   "metadata": {},
   "outputs": [
    {
     "data": {
      "text/plain": [
       "[<matplotlib.lines.Line2D at 0x7fb57dc4ed60>]"
      ]
     },
     "execution_count": 82,
     "metadata": {},
     "output_type": "execute_result"
    },
    {
     "data": {
      "image/png": "[encoded data removed]",
      "text/plain": [
       "<Figure size 432x288 with 1 Axes>"
      ]
     },
     "metadata": {
      "needs_background": "light"
     },
     "output_type": "display_data"
    }
   ],
   "source": [
    "plt.plot(range(1,10000,100),svm)"
   ]
  },
  {
   "cell_type": "markdown",
   "metadata": {},
   "source": [
    "# Modèles de Machine Learning\n",
    "\n",
    "Avant de lancer de grandes expériences, il faut se construire une base de travail solide en étudiant les questions suivantes:\n",
    "\n",
    "- Combien de temps ça prend d'apprendre un classifieur NB/SVM/RegLog sur ces données en fonction de la taille du vocabulaire?\n",
    "- La validation croisée est-elle nécessaire? Est ce qu'on obtient les mêmes résultats avec un simple *split*?\n",
    "- La validation croisée est-elle stable? A partir de combien de fold (travailler avec différentes graines aléatoires et faire des statistiques basiques)?"
   ]
  },
  {
   "cell_type": "markdown",
   "metadata": {},
   "source": [
    "## Première campagne d'expériences\n",
    "\n",
    "Les techniques sur lesquelles nous travaillons étant sujettes au sur-apprentissage: trouver le paramètre de régularisation dans la documentation et optimiser ce paramètre au sens de la métrique qui vous semble la plus appropriée (cf question précédente)."
   ]
  },
  {
   "cell_type": "code",
   "execution_count": null,
   "metadata": {},
   "outputs": [],
   "source": []
  },
  {
   "cell_type": "markdown",
   "metadata": {},
   "source": [
    "## Equilibrage des données\n",
    "\n",
    "Un problème reconnu comme dur dans la communauté est celui de l'équilibrage des classes (*balance* en anglais). Que faire si les données sont à 80, 90 ou 99% dans une des classes?\n",
    "Le problème est dur mais fréquent; les solutions sont multiples mais on peut isoler 3 grandes familles de solution.\n",
    "\n",
    "1. Ré-équilibrer le jeu de données: supprimer des données dans la classe majoritaire et/ou sur-échantilloner la classe minoritaire.<BR>\n",
    "   $\\Rightarrow$ A vous de jouer pour cette technique\n",
    "1. Changer la formulation de la fonction de coût pour pénaliser plus les erreurs dans la classe minoritaire:\n",
    "soit une fonction $\\Delta$ mesurant les écarts entre $f(x_i)$ et $y_i$ \n",
    "$$C = \\sum_i  \\alpha_i \\Delta(f(x_i),y_i), \\qquad \\alpha_i = \\left\\{\n",
    "\\begin{array}{ll}\n",
    "1 & \\text{si } y_i \\in \\text{classe majoritaire}\\\\\n",
    "B>1 & \\text{si } y_i \\in \\text{classe minoritaire}\\\\\n",
    "\\end{array} \\right.$$\n",
    "<BR>\n",
    "   $\\Rightarrow$ Les SVM et d'autres approches sklearn possèdent des arguments pour régler $B$ ou $1/B$... Ces arguments sont utiles mais pas toujours suffisant.\n",
    "1. Courbe ROC et modification du biais. Une fois la fonction $\\hat y = f(x)$ apprise, il est possible de la *bidouiller* a posteriori: si toutes les prédictions $\\hat y$ sont dans une classe, on va introduire $b$ dans $\\hat y = f(x) + b$ et le faire varier jusqu'à ce qu'un des points change de classe. On peut ensuite aller de plus en plus loin.\n",
    "Le calcul de l'ensemble des scores associés à cette approche mène directement à la courbe ROC.\n",
    "\n",
    "**Note:** certains classifieurs sont intrinsèquement plus résistante au problème d'équilibrage, c'est par exemple le cas des techniques de gradient boosting que vous verrez l'an prochain."
   ]
  },
  {
   "cell_type": "code",
   "execution_count": null,
   "metadata": {},
   "outputs": [],
   "source": []
  }
 ],
 "metadata": {
  "kernelspec": {
   "display_name": "Python 3.9.12",
   "language": "python",
   "name": "python3"
  },
  "language_info": {
   "codemirror_mode": {
    "name": "ipython",
    "version": 3
   },
   "file_extension": ".py",
   "mimetype": "text/x-python",
   "name": "python",
   "nbconvert_exporter": "python",
   "pygments_lexer": "ipython3",
   "version": "3.9.12"
  },
  "vscode": {
   "interpreter": {
    "hash": "b232fc45960c9dbd0c0efb27ff96954c5713886543565220a28c70b42cf4b7a6"
   }
  }
 },
 "nbformat": 4,
 "nbformat_minor": 2
}
