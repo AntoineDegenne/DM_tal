{
 "cells": [
  {
   "cell_type": "markdown",
   "metadata": {},
   "source": [
    "# Chargement des données"
   ]
  },
  {
   "cell_type": "code",
   "execution_count": 1,
   "metadata": {},
   "outputs": [],
   "source": [
    "# Packages\n",
    "import numpy as np\n",
    "import pandas as pd\n",
    "import matplotlib.pyplot as plt\n",
    "import codecs\n",
    "import re\n",
    "import os.path\n",
    "import string\n",
    "import unicodedata\n",
    "from nltk.stem.porter import *\n",
    "from nltk.tokenize import word_tokenize\n",
    "from nltk.corpus import stopwords\n",
    "import sklearn.naive_bayes as nb\n",
    "from sklearn.model_selection import train_test_split, cross_val_score, GridSearchCV\n",
    "from sklearn import svm, linear_model\n",
    "from sklearn.metrics import f1_score, confusion_matrix, plot_confusion_matrix, average_precision_score\n",
    "from sklearn.feature_extraction.text import CountVectorizer\n",
    "import itertools\n",
    "from sklearn.linear_model import LogisticRegression\n"
   ]
  },
  {
   "cell_type": "code",
   "execution_count": 2,
   "metadata": {},
   "outputs": [],
   "source": [
    "# Chargement des données:\n",
    "def load_pres(fname):\n",
    "    alltxts = []\n",
    "    alllabs = []\n",
    "    s=codecs.open(fname, 'r','utf-8') # pour régler le codage\n",
    "    while True:\n",
    "        txt = s.readline()\n",
    "        if(len(txt))<5:\n",
    "            break\n",
    "        #\n",
    "        lab = re.sub(r\"<[0-9]*:[0-9]*:(.)>.*\",\"\\\\1\",txt)\n",
    "        txt = re.sub(r\"<[0-9]*:[0-9]*:.>(.*)\",\"\\\\1\",txt)\n",
    "        if lab.count('M') >0:\n",
    "            alllabs.append(-1)\n",
    "        else: \n",
    "            alllabs.append(1)\n",
    "        alltxts.append(txt)\n",
    "    return alltxts,alllabs\n",
    "\n",
    "fname = \"/Users/etienneperez/Documents/IODAA/TAL/ressources/AFDpresidentutf8/corpus.tache1.learn.utf8\"\n",
    "\n",
    "alltxts,alllabs = load_pres(fname)"
   ]
  },
  {
   "cell_type": "markdown",
   "metadata": {},
   "source": [
    "# Description des données"
   ]
  },
  {
   "cell_type": "code",
   "execution_count": 3,
   "metadata": {},
   "outputs": [
    {
     "name": "stdout",
     "output_type": "stream",
     "text": [
      "Nombre de phrase :  57413\n",
      "Nombre d'étiquettes 1 :  49890  ( 0.87 )\n",
      "Nombre d'étiquettes -1 :  7523  ( 0.13 )\n"
     ]
    }
   ],
   "source": [
    "# Nombre de phrase\n",
    "print(\"Nombre de phrase : \", len(alltxts))\n",
    "\n",
    "# Mise en évidénce du cas déséquilibré\n",
    "print(\"Nombre d'étiquettes 1 : \", alllabs.count(1), \" (\",round(alllabs.count(1)/len(alllabs),2),\")\")\n",
    "print(\"Nombre d'étiquettes -1 : \", alllabs.count(-1), \" (\",round(alllabs.count(-1)/len(alllabs),2),\")\")"
   ]
  },
  {
   "cell_type": "code",
   "execution_count": 4,
   "metadata": {},
   "outputs": [],
   "source": [
    "# Fonctions de prétraitements basiques\n",
    "\n",
    "# Supprimer la ponctuation et les chiffres de toutes les phrases\n",
    "def suppr_ponct(txt): # prend alltxts en entrée\n",
    "    punc = string.punctuation  \n",
    "    punc += '\\n\\r\\t'\n",
    "\n",
    "    for i in range(len(txt)):\n",
    "        txt[i] = txt[i].translate(str.maketrans(punc, ' ' * len(punc)))  \n",
    "        txt[i] = re.sub('[0-9]+', '', txt[i])\n",
    "\n",
    "# Supprimer les accents et caractères spéciaux\n",
    "def suppr_accents_maj(txt): # prend alltxts en entrée\n",
    "    for i in range(len(txt)):\n",
    "        txt[i] = unicodedata.normalize('NFD',  txt[i]).encode('ascii', 'ignore').decode(\"utf-8\")\n",
    "        txt[i] =  txt[i].lower()"
   ]
  },
  {
   "cell_type": "code",
   "execution_count": 5,
   "metadata": {},
   "outputs": [],
   "source": [
    "# Génération du dictionnaire {\"mot\" : occurence_documentaire}\n",
    "suppr_ponct(alltxts)\n",
    "suppr_accents_maj(alltxts)\n",
    "\n",
    "words = []\n",
    "for i in range(len(alltxts)):\n",
    "    mots_vus = []\n",
    "    for mot in alltxts[i].split():\n",
    "        if mot not in mots_vus: # on ajoute 1 seule fois le mot s'il apparait dans la phrase --> occurence documentaire et pas totale\n",
    "            words.append(mot)\n",
    "            mots_vus.append(mot)\n",
    "\n",
    "\n",
    "from collections import Counter\n",
    "\n",
    "dico = Counter(words)\n",
    "\n",
    "# Dico qui associe 1 mot à sa position dans le dictionnaire dico\n",
    "trans = dict(zip(list(dico.keys()), np.arange(len(dico)).tolist()))"
   ]
  },
  {
   "cell_type": "markdown",
   "metadata": {},
   "source": [
    "# Extraction du vocabulaire"
   ]
  },
  {
   "cell_type": "code",
   "execution_count": 6,
   "metadata": {},
   "outputs": [
    {
     "name": "stdout",
     "output_type": "stream",
     "text": [
      "27054\n"
     ]
    }
   ],
   "source": [
    "# Extraction du vocabulaire\n",
    "vectorizer = CountVectorizer()\n",
    "X = vectorizer.fit_transform(alltxts)\n",
    "\n",
    "print(\"Taille du vocabulaire : \",len(vectorizer.get_feature_names()))\n"
   ]
  },
  {
   "cell_type": "code",
   "execution_count": 8,
   "metadata": {},
   "outputs": [
    {
     "name": "stdout",
     "output_type": "stream",
     "text": [
      "[('de', 35268), ('la', 27664), ('et', 26298), ('l', 24658), ('a', 23599), ('le', 19625), ('les', 18229), ('d', 16258), ('des', 16088), ('est', 14927), ('en', 13349), ('que', 13140), ('qui', 12395), ('un', 10791), ('une', 10692), ('dans', 10113), ('pour', 9892), ('du', 8966), ('il', 8861), ('je', 8808), ('nous', 7696), ('au', 7269), ('c', 7248), ('vous', 7140), ('ce', 6990), ('plus', 5882), ('pas', 5704), ('qu', 5551), ('sur', 5223), ('s', 5094), ('notre', 5063), ('france', 4937), ('ne', 4890), ('par', 4849), ('cette', 4558), ('mais', 4388), ('avec', 4345), ('aussi', 4232), ('se', 4163), ('nos', 4138), ('pays', 4126), ('ou', 4122), ('sont', 4104), ('elle', 3848), ('n', 3759), ('ont', 3641), ('aux', 3615), ('etre', 3608), ('tout', 3453), ('tous', 3247), ('j', 3163), ('votre', 3059), ('leur', 2994), ('y', 2991), ('son', 2834), ('bien', 2821), ('nom', 2755), ('ces', 2712), ('meme', 2692), ('comme', 2642), ('hui', 2558), ('aujourd', 2557), ('on', 2497), ('entre', 2476), ('doit', 2389), ('europe', 2382), ('monde', 2365), ('faire', 2327), ('ses', 2322), ('sa', 2286), ('francais', 2282), ('ai', 2147), ('faut', 2015), ('ils', 2006), ('si', 1991), ('ete', 1974), ('sans', 1928), ('fait', 1898), ('etat', 1847), ('date', 1740), ('cela', 1695), ('dire', 1635), ('ensemble', 1628), ('avez', 1625), ('peut', 1582), ('deux', 1581), ('developpement', 1576), ('dont', 1565), ('tres', 1563), ('leurs', 1522), ('encore', 1480), ('politique', 1475), ('autres', 1471), ('president', 1466), ('monsieur', 1449), ('toutes', 1413), ('vie', 1389), ('avons', 1386), ('vos', 1344), ('ici', 1322)]\n"
     ]
    },
    {
     "data": {
      "text/plain": [
       "[<matplotlib.lines.Line2D at 0x7f79b38cd340>]"
      ]
     },
     "execution_count": 8,
     "metadata": {},
     "output_type": "execute_result"
    },
    {
     "data": {
      "image/png": "[encoded data removed]",
      "text/plain": [
       "<Figure size 432x288 with 1 Axes>"
      ]
     },
     "metadata": {
      "needs_background": "light"
     },
     "output_type": "display_data"
    }
   ],
   "source": [
    "# Affichage des 100 mots les plus apparus dans les phrases\n",
    "print(\"100 mots les plus apparus : \",dico.most_common(100))\n",
    "freq = [f for w,f in dico.most_common()]\n",
    "\n",
    "plt.plot(freq)"
   ]
  },
  {
   "cell_type": "markdown",
   "metadata": {},
   "source": [
    "# Transformation paramétrique du texte"
   ]
  },
  {
   "cell_type": "code",
   "execution_count": 94,
   "metadata": {},
   "outputs": [],
   "source": [
    "# DEFINITION DES FONCTIONS DE PRETRAITEMENT\n",
    "\n",
    "# Data augmentation pour rééquilibrer les classes\n",
    "def data_augmentation(txt,labs):\n",
    "    liste_positions = []\n",
    "    for i in labs:\n",
    "        liste_positions.append(i == 1) \n",
    "\n",
    "    liste_classe_minoritaire = itertools.compress(txt, liste_positions)\n",
    "\n",
    "    txts_bis = []\n",
    "    for each in liste_classe_minoritaire:\n",
    "        txts_bis.append(each)\n",
    "\n",
    "    for elem in txts_bis: # nombre d'ajout trouvé de manière empirique pour avoir environ 50/50\n",
    "        txt.append(elem)\n",
    "        txt.append(elem)\n",
    "        txt.append(elem)\n",
    "        txt.append(elem)\n",
    "        txt.append(elem)\n",
    "        labs.append(1)\n",
    "        labs.append(1)\n",
    "        labs.append(1)\n",
    "        labs.append(1)\n",
    "        labs.append(1)\n",
    "\n",
    "# Stemming\n",
    "def stemming(txt):\n",
    "    ps = PorterStemmer()\n",
    "    compteur = 0\n",
    "    for sentence in txt:\n",
    "        # print(\"sentence : \",sentence)\n",
    "        words = word_tokenize(sentence,language='french')\n",
    "        # print(\"words : \",words)\n",
    "        sentence_new = ''\n",
    "        for word in words:\n",
    "            word_new = ps.stem(word)\n",
    "            sentence_new += word_new + ' '\n",
    "        txt[compteur] = sentence_new\n",
    "        compteur += 1\n",
    "\n",
    "# Stopword\n",
    "stop_words = stopwords.words('french')\n",
    "\n"
   ]
  },
  {
   "cell_type": "code",
   "execution_count": 95,
   "metadata": {},
   "outputs": [],
   "source": [
    "# MISE EN PLACE DES PRETRAITEMENTS --> GENERATION DE DIFFERENTS JEUX DE DONNEES\n",
    "# Résumé : pour chaque type de traitement du cas déséquilibré (data augmentation ou pénalisation erreur classe min), on génère 3 jeux de données issus de\n",
    "# 3 prétraitrements différents : prétaitements basiques + stop words + stemming, n-gram niveau mots, n-gram niveau caractères\n",
    "\n",
    "# Séparation train / test\n",
    "X_train, X_test, y_train, y_test = train_test_split(alltxts, alllabs, test_size=0.3, random_state=0)\n",
    "\n",
    "# On inverse les étiquettes 1 et -1 pour que la classe minoritaire soit étiquetée +1\n",
    "# Cela permet de considérer la classe minoritaire comme la classe d'intérêt dans les métriques de scoring de gridSearchCV\n",
    "for i in range(0,len(y_train)):\n",
    "    if y_train[i] == -1:\n",
    "        y_train[i] = 1\n",
    "    else:\n",
    "        y_train[i] = -1\n",
    "\n",
    "for i in range(0,len(y_test_1)):\n",
    "    if y_test[i] == -1:\n",
    "        y_test[i] = 1\n",
    "    else:\n",
    "        y_test[i] = -1\n",
    "\n",
    "# On ajoute à liste_donnees différents jeux de données issus de différents pré-traitements\n",
    "liste_donnees = []\n",
    "\n",
    "# Prétraitement par stemming commun à tous les jeux de données\n",
    "stemming(X_train)\n",
    "stemming(X_test)\n",
    "\n",
    "#######################################\n",
    "# PRETRAITEMENTS SANS DATA AUGMENTATION\n",
    "#######################################\n",
    "X_train_1 = X_train.copy()\n",
    "X_test_1 = X_test.copy()\n",
    "y_train_1 = y_train.copy()\n",
    "y_test_1 = y_test.copy()\n",
    "\n",
    "# Prétraitement avec pré-traitements basiques + stop words + stemming\n",
    "vectorizer = CountVectorizer(stop_words = stop_words, min_df = 2)\n",
    "X_train_vec = vectorizer.fit_transform(X_train_1)\n",
    "X_test_vec = vectorizer.transform(X_test_1)\n",
    "liste_donnees.append([X_train_vec,y_train_1,X_test_vec,y_test_1,len(vectorizer.get_feature_names()), \"Prétraitements basiques + stopwords + stemming : \"])\n",
    "\n",
    "# Prétraitement avec bigram et trigram au niv mot (+ pré-traitements basiques + stop words + stemming)\n",
    "vectorizer = CountVectorizer(stop_words = stop_words, ngram_range=(1,3), analyzer='word', min_df = 2)\n",
    "X_train_vec = vectorizer.fit_transform(X_train_1)\n",
    "X_test_vec = vectorizer.transform(X_test_1)\n",
    "liste_donnees.append([X_train_vec,y_train_1,X_test_vec,y_test_1,len(vectorizer.get_feature_names()), \"Prétraitements basiques + stopwords + stemming + bigram/trigram niveau mot : \"])\n",
    "\n",
    "# Prétraitement avec bigram et trigram au niv caractère (+ pré-traitements basiques + stop words + stemming)\n",
    "vectorizer = CountVectorizer(stop_words = stop_words,ngram_range=(2,4), analyzer='char', min_df = 2)\n",
    "X_train_vec = vectorizer.fit_transform(X_train_1)\n",
    "X_test_vec = vectorizer.transform(X_test_1)\n",
    "liste_donnees.append([X_train_vec,y_train_1,X_test_vec,y_test_1,len(vectorizer.get_feature_names()), \"Prétraitements basiques + stopwords + stemming + bigram/trigram niveau caractère: \"])\n",
    "\n",
    "#######################################\n",
    "# PRETRAITEMENTS AVEC DATA AUGMENTATION\n",
    "#######################################\n",
    "X_train_2 = X_train.copy()\n",
    "X_test_2 = X_test.copy()\n",
    "y_train_2 = y_train.copy()\n",
    "y_test_2 = y_test.copy()\n",
    "data_augmentation(X_train_2,y_train_2)\n",
    "\n",
    "# Prétraitement avec pré-traitements basiques + stop words + stemming\n",
    "vectorizer = CountVectorizer(stop_words = stop_words, min_df = 2)\n",
    "X_train_vec = vectorizer.fit_transform(X_train_2)\n",
    "X_test_vec = vectorizer.transform(X_test_2)\n",
    "liste_donnees.append([X_train_vec,y_train_2,X_test_vec,y_test_2,len(vectorizer.get_feature_names()), \"Prétraitements basiques + stopwords + stemming + data augmentation : \"])\n",
    "\n",
    "# Prétraitement avec data augmentation (+ pré-traitements basiques + stop words + stemming + bigram et trigram au niv mot)\n",
    "vectorizer = CountVectorizer(stop_words = stop_words, ngram_range=(1,3), analyzer='word', min_df = 2)\n",
    "X_train_vec = vectorizer.fit_transform(X_train_2)\n",
    "X_test_vec = vectorizer.transform(X_test_2)\n",
    "liste_donnees.append([X_train_vec,y_train_2,X_test_vec,y_test_2,len(vectorizer.get_feature_names()), \"Prétraitements basiques + stopwords + stemming + data augmentation + bigram/trigram niveau mot : \"])\n",
    "\n",
    "# Prétraitement avec data augmentation (+ pré-traitements basiques + stop words + stemming + bigram et trigram au niv caractère)\n",
    "vectorizer = CountVectorizer(stop_words = stop_words, ngram_range=(2,4), analyzer='char', min_df = 2)\n",
    "X_train_vec = vectorizer.fit_transform(X_train_2)\n",
    "X_test_vec = vectorizer.transform(X_test_2)\n",
    "liste_donnees.append([X_train_vec,y_train_2,X_test_vec,y_test_2,len(vectorizer.get_feature_names()), \"Prétraitements basiques + stopwords + stemming + data augmentation + bigram/trigram niveau carac : \"])\n"
   ]
  },
  {
   "cell_type": "code",
   "execution_count": 96,
   "metadata": {},
   "outputs": [
    {
     "name": "stdout",
     "output_type": "stream",
     "text": [
      "Nombre d'étiquettes 1 - y_train_1:  5243  ( 0.13 )\n",
      "Nombre d'étiquettes -1 - y_train_1:  34946  ( 0.87 )\n",
      "Nombre d'étiquettes 1 - y_test_1:  2280  ( 0.13 )\n",
      "Nombre d'étiquettes -1 - y_test_1:  14944  ( 0.87 )\n"
     ]
    }
   ],
   "source": [
    "# Vérification que la classe minoritaire est bien étiquetée +1\n",
    "print(\"Nombre d'étiquettes 1 - y_train_1: \", liste_donnees[0][1].count(1), \" (\",round( liste_donnees[0][1].count(1)/len( liste_donnees[0][1]),2),\")\")\n",
    "print(\"Nombre d'étiquettes -1 - y_train_1: \",  liste_donnees[0][1].count(-1), \" (\",round( liste_donnees[0][1].count(-1)/len( liste_donnees[0][1]),2),\")\")\n",
    "\n",
    "print(\"Nombre d'étiquettes 1 - y_test_1: \", liste_donnees[0][3].count(1), \" (\",round( liste_donnees[0][3].count(1)/len( liste_donnees[0][3]),2),\")\")\n",
    "print(\"Nombre d'étiquettes -1 - y_test_1: \",  liste_donnees[0][3].count(-1), \" (\",round( liste_donnees[0][3].count(-1)/len( liste_donnees[0][3]),2),\")\")"
   ]
  },
  {
   "cell_type": "code",
   "execution_count": 97,
   "metadata": {},
   "outputs": [
    {
     "name": "stdout",
     "output_type": "stream",
     "text": [
      "Nombre d'étiquettes 1 - y_train :  31458  ( 0.47 )\n",
      "Nombre d'étiquettes -1 - y_train :  34946  ( 0.53 )\n"
     ]
    }
   ],
   "source": [
    "# Vérification du rééquilibrage des classes par data augmentation pour les 3 derniers jeux de données\n",
    "print(\"Nombre d'étiquettes 1 - y_train : \", y_train_2.count(1), \" (\",round(y_train_2.count(1)/len(y_train_2),2),\")\")\n",
    "print(\"Nombre d'étiquettes -1 - y_train : \", y_train_2.count(-1), \" (\",round(y_train_2.count(-1)/len(y_train_2),2),\")\")"
   ]
  },
  {
   "cell_type": "code",
   "execution_count": 98,
   "metadata": {},
   "outputs": [
    {
     "name": "stdout",
     "output_type": "stream",
     "text": [
      "Prétraitements basiques + stopwords + stemming : \n",
      "Taille vocab :  10028\n",
      "Prétraitements basiques + stopwords + stemming + bigram/trigram niveau mot : \n",
      "Taille vocab :  89909\n",
      "Prétraitements basiques + stopwords + stemming + bigram/trigram niveau caractère: \n",
      "Taille vocab :  25213\n",
      "Prétraitements basiques + stopwords + stemming + data augmentation : \n",
      "Taille vocab :  11402\n",
      "Prétraitements basiques + stopwords + stemming + data augmentation + bigram/trigram niveau mot : \n",
      "Taille vocab :  195226\n",
      "Prétraitements basiques + stopwords + stemming + data augmentation + bigram/trigram niveau carac : \n",
      "Taille vocab :  26334\n"
     ]
    }
   ],
   "source": [
    "# Taille du vocabulaire des données issues des différents pré-traitements\n",
    "for liste in liste_donnees:\n",
    "    print(liste[5])\n",
    "    print(\"Taille vocab : \",liste[4])"
   ]
  },
  {
   "cell_type": "markdown",
   "metadata": {},
   "source": [
    "# Effets des différents prétraitements sur les performances"
   ]
  },
  {
   "cell_type": "code",
   "execution_count": null,
   "metadata": {},
   "outputs": [],
   "source": [
    "modeles = []\n",
    "\n",
    "compteur = 0\n",
    "for liste in liste_donnees: # remplacer liste_donnees par [liste_donnees[i]] pour tester un des jeux de données prétraité en particulier sinon ça prend beaucoup de temps\n",
    "    compteur += 1\n",
    "\n",
    "    # Pour chaque jeu de données prétraitées, on fit 3 classifieurs\n",
    "    # Pour chaque classifieur, on optimise ses paramètres en train avec gridSearch et on regarde les perf du meilleur estimateur en test\n",
    "\n",
    "    # Cas où on pénalise la classe minoritaire pour traiter le cas déséquilibré\n",
    "    if compteur == 1 or compteur == 2 or compteur == 3 :\n",
    "\n",
    "        ## Linear SVM\n",
    "        print(\"entree SVM\")\n",
    "        clf_svm = svm.LinearSVC(random_state=0, tol=1e-5, max_iter = 10000, class_weight = 'balanced')\n",
    "        param_grid_svm = {'C': [0.1, 1, 10, 100]}\n",
    "        grid_svm = GridSearchCV(clf_svm, param_grid = param_grid_svm, scoring = 'f1', n_jobs=3)\n",
    "        grid_svm.fit(liste[0],liste[1])\n",
    "\n",
    "        ## logistic regression\n",
    "        print(\"entree Reg Log\")\n",
    "        clf_log = LogisticRegression(max_iter = 10000, class_weight = 'balanced')\n",
    "        param_grid_log = {'C': [0.1, 1, 10, 100]}\n",
    "        grid_log = GridSearchCV(clf_log, param_grid = param_grid_log, scoring = 'f1', n_jobs=3)\n",
    "        grid_log.fit(liste[0],liste[1])\n",
    "    \n",
    "    # Cas où on a fait de la data augmentation en pré-traitement pour traiter le cas déséquilibré\n",
    "    else:\n",
    "        # Linear SVM \n",
    "        print(\"entree SVM\")\n",
    "        clf_svm = svm.LinearSVC(random_state=0, tol=1e-5, max_iter = 10000)\n",
    "        param_grid_svm = {'C': [0.1, 1, 10, 100]}\n",
    "        grid_svm = GridSearchCV(clf_svm, param_grid = param_grid_svm, scoring='f1', n_jobs=3)\n",
    "        grid_svm.fit(liste[0],liste[1])\n",
    "\n",
    "        ## Naive Bayes\n",
    "        print(\"entree NB\")\n",
    "        clf_nb = nb.MultinomialNB()\n",
    "        param_grid_nb = {'alpha': [0.0001, 0.001, 0.1, 1, 10, 100,1000]}\n",
    "        grid_nb = GridSearchCV(clf_nb, param_grid = param_grid_nb, scoring='f1', n_jobs=3)\n",
    "        grid_nb.fit(liste[0],liste[1])\n",
    "\n",
    "        # Logistic regression\n",
    "        print(\"entree Reg Log\")\n",
    "        clf_log = LogisticRegression(max_iter = 10000)\n",
    "        param_grid_log = {'C': [0.1, 1, 10, 100]}\n",
    "        grid_log = GridSearchCV(clf_log, param_grid = param_grid_log, scoring='f1', n_jobs=3)\n",
    "        grid_log.fit(liste[0],liste[1])\n",
    "\n",
    "    print(\" \")\n",
    "    print(liste[5])\n",
    "\n",
    "    print(\"taille vocabulaire : \",liste[4])\n",
    "    \n",
    "    print(\"SVM - paramètre C optimal :\", grid_svm.best_params_)\n",
    "    print(\"SVM - score f1  (avec C optimal) : \",f1_score(grid_svm.best_estimator_.predict(liste[0]),liste[1]))\n",
    "    color = 'white'\n",
    "    matrix = plot_confusion_matrix(grid_svm.best_estimator_, liste[0], liste[1], cmap=plt.cm.Blues, normalize = 'true')\n",
    "    matrix.ax_.set_title('SVM (score f1 : {})'.format(round(f1_score(grid_svm.best_estimator_.predict(liste[0]),liste[1]),2)), color=color)\n",
    "    plt.xlabel('Label prédit', color=color)\n",
    "    plt.ylabel('Vrai Label', color=color)\n",
    "    plt.gcf().axes[0].tick_params(colors=color)\n",
    "    plt.gcf().axes[1].tick_params(colors=color)\n",
    "    plt.show()\n",
    "\n",
    "    if compteur == 4 or compteur == 5 or compteur == 6 :\n",
    "        print(\"Naive Bayes - paramètre alpha optimal :\", grid_nb.best_params_)\n",
    "        print(\"Naive Bayes - score f1  (avec alpha optimal) : \",f1_score(grid_nb.best_estimator_.predict(liste[0]),liste[1]))\n",
    "        color = 'white'\n",
    "        matrix = plot_confusion_matrix(grid_nb.best_estimator_, liste[0], liste[1], cmap=plt.cm.Blues, normalize = 'true')\n",
    "        matrix.ax_.set_title('SVM (score f1 : {})'.format(round(f1_score(grid_nb.best_estimator_.predict(liste[0]),liste[1]),2)), color=color)\n",
    "        plt.xlabel('Label prédit', color=color)\n",
    "        plt.ylabel('Vrai Label', color=color)\n",
    "        plt.gcf().axes[0].tick_params(colors=color)\n",
    "        plt.gcf().axes[1].tick_params(colors=color)\n",
    "        plt.show()\n",
    "\n",
    "    print(\"Reg logisti - paramètre C optimal :\", grid_log.best_params_)\n",
    "    print(\"Reg logisti - score f1  (avec C optimal) : \",f1_score(grid_log.best_estimator_.predict(liste[0]),liste[1]))\n",
    "    color = 'white'\n",
    "    matrix = plot_confusion_matrix(grid_log.best_estimator_, liste[0], liste[1], cmap=plt.cm.Blues, normalize = 'true')\n",
    "    matrix.ax_.set_title('SVM (score f1 : {})'.format(round(f1_score(grid_log.best_estimator_.predict(liste[0]),liste[1]),2)), color=color)\n",
    "    plt.xlabel('Label prédit', color=color)\n",
    "    plt.ylabel('Vrai Label', color=color)\n",
    "    plt.gcf().axes[0].tick_params(colors=color)\n",
    "    plt.gcf().axes[1].tick_params(colors=color)\n",
    "    plt.show()\n",
    "\n",
    "    modeles.append([grid_svm.best_estimator_, \"Best SVM\",liste[2],liste[3]])\n",
    "    if compteur == 4 or compteur == 5 or compteur == 6 :\n",
    "        modeles.append([grid_nb.best_estimator_, \"Best NB\",liste[2],liste[3]])\n",
    "    modeles.append([grid_log.best_estimator_, \"Best Reg Log\",liste[2],liste[3]])\n"
   ]
  },
  {
   "cell_type": "code",
   "execution_count": 163,
   "metadata": {},
   "outputs": [
    {
     "name": "stdout",
     "output_type": "stream",
     "text": [
      "score f1 :  0.5132394366197184\n",
      "[[14585  1369]\n",
      " [  359   911]]\n",
      "[[0.9141908  0.0858092 ]\n",
      " [0.28267717 0.71732283]]\n"
     ]
    }
   ],
   "source": [
    "# On construit le modèle final correspondant au vote de plusieurs modèles\n",
    "# Et on calcule ses performances en test\n",
    "y_pred = []\n",
    "y_moy = []\n",
    "modeles_selectionnees = [modeles[2],modeles[3],modeles[9],modeles[10],modeles[11]] # Indices correspondant aux modèles sélectionnés pour le vote\n",
    "\n",
    "for mod in modeles_selectionnees: \n",
    "    y_pred.append(mod[0].predict(mod[2]))\n",
    "\n",
    "for i in range(0,len(y_pred[0])):\n",
    "    if [y[i] for y in y_pred].count(1) > len(modeles_selectionnees)//2: # résultat du \"vote\" des modèles\n",
    "        y_moy.append(1)\n",
    "    else:\n",
    "        y_moy.append(-1)\n",
    "\n",
    "conf_matrix_0 = confusion_matrix(y_moy, y_test)\n",
    "conf_matrix = confusion_matrix(y_moy, y_test, normalize = 'true')\n",
    "print(conf_matrix_0)\n",
    "print(conf_matrix)"
   ]
  },
  {
   "cell_type": "code",
   "execution_count": 175,
   "metadata": {},
   "outputs": [],
   "source": [
    "# Génération du fichier .txt de résultats\n",
    "import pandas as pd\n",
    "df = pd.DataFrame({'Phrase': X_test, 'Classe réelle': y_test, 'Classe prédite': y_moy}, columns = ['Phrase', 'Classe réelle', 'Classe prédite'])\n",
    "df.to_csv(\"fichier.csv\")\n"
   ]
  }
 ],
 "metadata": {
  "kernelspec": {
   "display_name": "Python 3 (ipykernel)",
   "language": "python",
   "name": "python3"
  },
  "language_info": {
   "codemirror_mode": {
    "name": "ipython",
    "version": 3
   },
   "file_extension": ".py",
   "mimetype": "text/x-python",
   "name": "python",
   "nbconvert_exporter": "python",
   "pygments_lexer": "ipython3",
   "version": "3.8.5"
  },
  "vscode": {
   "interpreter": {
    "hash": "40d3a090f54c6569ab1632332b64b2c03c39dcf918b08424e98f38b5ae0af88f"
   }
  }
 },
 "nbformat": 4,
 "nbformat_minor": 2
}
