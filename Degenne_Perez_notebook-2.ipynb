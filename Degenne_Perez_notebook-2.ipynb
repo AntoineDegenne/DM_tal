{
 "cells": [
  {
   "cell_type": "markdown",
   "metadata": {},
   "source": [
    "# Chargement des données"
   ]
  },
  {
   "cell_type": "code",
   "execution_count": 86,
   "metadata": {},
   "outputs": [],
   "source": [
    "# Packages\n",
    "import numpy as np\n",
    "import pandas as pd\n",
    "import matplotlib.pyplot as plt\n",
    "import codecs\n",
    "import re\n",
    "import os.path\n",
    "import string\n",
    "import unicodedata\n",
    "from nltk.stem.porter import *\n",
    "from nltk.tokenize import word_tokenize\n",
    "from nltk.corpus import stopwords\n",
    "import sklearn.naive_bayes as nb\n",
    "from sklearn.model_selection import train_test_split, cross_val_score, GridSearchCV\n",
    "from sklearn import svm, linear_model\n",
    "from sklearn.metrics import f1_score, confusion_matrix, plot_confusion_matrix, average_precision_score\n",
    "from sklearn.feature_extraction.text import CountVectorizer\n",
    "import itertools\n",
    "from sklearn.linear_model import LogisticRegression\n",
    "from sklearn.naive_bayes import MultinomialNB\n"
   ]
  },
  {
   "cell_type": "code",
   "execution_count": 87,
   "metadata": {},
   "outputs": [],
   "source": [
    "# Chargement des données:\n",
    "def load_movies(path2data): # 1 classe par répertoire\n",
    "    alltxts = [] # init vide\n",
    "    labs = []\n",
    "    cpt = 0\n",
    "    for cl in os.listdir(path2data): # parcours des fichiers d'un répertoire\n",
    "        for f in os.listdir(path2data+cl):\n",
    "            txt = open(path2data+cl+'/'+f).read()\n",
    "            alltxts.append(txt)\n",
    "            labs.append(cpt)\n",
    "        cpt+=1 # chg répertoire = cht classe\n",
    "        \n",
    "    return alltxts,labs\n",
    "\n",
    "path = \"/Users/antoinedegenne/Desktop/PAPT/3A/Web_semantique/Vincent/tuto_TAL-main-3/notebooks/ressources/movies/movies1000/\"\n",
    "alltxts,alllabs = load_movies(path)"
   ]
  },
  {
   "cell_type": "markdown",
   "metadata": {},
   "source": [
    "# Description des données"
   ]
  },
  {
   "cell_type": "code",
   "execution_count": 88,
   "metadata": {},
   "outputs": [
    {
     "name": "stdout",
     "output_type": "stream",
     "text": [
      "Nombre de phrase :  2000\n",
      "Nombre d'étiquettes 1 :  1000  ( 0.5 )\n",
      "Nombre d'étiquettes 0 :  1000  ( 0.5 )\n"
     ]
    }
   ],
   "source": [
    "# Nombre de phrase\n",
    "print(\"Nombre de phrase : \", len(alltxts))\n",
    "\n",
    "# Mise en évidénce du cas déséquilibré\n",
    "print(\"Nombre d'étiquettes 1 : \", alllabs.count(1), \" (\",round(alllabs.count(1)/len(alllabs),2),\")\")\n",
    "print(\"Nombre d'étiquettes 0 : \", alllabs.count(0), \" (\",round(alllabs.count(0)/len(alllabs),2),\")\")"
   ]
  },
  {
   "cell_type": "code",
   "execution_count": 89,
   "metadata": {},
   "outputs": [],
   "source": [
    "# Fonctions de prétraitements basiques\n",
    "\n",
    "# Supprimer la ponctuation et les chiffres de toutes les phrases\n",
    "def suppr_ponct(txt): # prend alltxts en entrée\n",
    "    punc = string.punctuation  \n",
    "    punc += '\\n\\r\\t'\n",
    "\n",
    "    for i in range(len(txt)):\n",
    "        txt[i] = txt[i].translate(str.maketrans(punc, ' ' * len(punc)))  \n",
    "        txt[i] = re.sub('[0-9]+', '', txt[i])\n",
    "\n",
    "# Supprimer les accents et caractères spéciaux\n",
    "def suppr_accents_maj(txt): # prend alltxts en entrée\n",
    "    for i in range(len(txt)):\n",
    "        txt[i] = unicodedata.normalize('NFD',  txt[i]).encode('ascii', 'ignore').decode(\"utf-8\")\n",
    "        txt[i] =  txt[i].lower()"
   ]
  },
  {
   "cell_type": "code",
   "execution_count": 90,
   "metadata": {},
   "outputs": [],
   "source": [
    "# Génération du dictionnaire {\"mot\" : occurence_documentaire}\n",
    "suppr_ponct(alltxts)\n",
    "suppr_accents_maj(alltxts)\n",
    "\n",
    "words = []\n",
    "for i in range(len(alltxts)):\n",
    "    mots_vus = []\n",
    "    for mot in alltxts[i].split():\n",
    "        if mot not in mots_vus: # on ajoute 1 seule fois le mot s'il apparait dans la phrase --> occurence documentaire et pas totale\n",
    "            words.append(mot)\n",
    "            mots_vus.append(mot)\n",
    "\n",
    "\n",
    "from collections import Counter\n",
    "\n",
    "dico = Counter(words)\n",
    "\n",
    "# Dico qui associe 1 mot à sa position dans le dictionnaire dico\n",
    "trans = dict(zip(list(dico.keys()), np.arange(len(dico)).tolist()))"
   ]
  },
  {
   "cell_type": "markdown",
   "metadata": {},
   "source": [
    "# Extraction du vocabulaire"
   ]
  },
  {
   "cell_type": "code",
   "execution_count": 91,
   "metadata": {},
   "outputs": [
    {
     "name": "stdout",
     "output_type": "stream",
     "text": [
      "Taille du vocabulaire :  38890\n"
     ]
    },
    {
     "name": "stderr",
     "output_type": "stream",
     "text": [
      "/Users/antoinedegenne/opt/anaconda3/lib/python3.9/site-packages/sklearn/utils/deprecation.py:87: FutureWarning: Function get_feature_names is deprecated; get_feature_names is deprecated in 1.0 and will be removed in 1.2. Please use get_feature_names_out instead.\n",
      "  warnings.warn(msg, category=FutureWarning)\n"
     ]
    }
   ],
   "source": [
    "# Extraction du vocabulaire\n",
    "vectorizer = CountVectorizer()\n",
    "X = vectorizer.fit_transform(alltxts)\n",
    "\n",
    "print(\"Taille du vocabulaire : \",len(vectorizer.get_feature_names()))\n"
   ]
  },
  {
   "cell_type": "code",
   "execution_count": 92,
   "metadata": {},
   "outputs": [
    {
     "name": "stdout",
     "output_type": "stream",
     "text": [
      "100 mots les plus apparus :  [('the', 1999), ('of', 1998), ('and', 1998), ('to', 1997), ('a', 1996), ('is', 1995), ('in', 1994), ('it', 1967), ('s', 1966), ('that', 1963), ('with', 1944), ('for', 1922), ('as', 1920), ('but', 1903), ('this', 1896), ('on', 1861), ('an', 1785), ('by', 1782), ('are', 1781), ('one', 1776), ('be', 1774), ('his', 1756), ('film', 1753), ('who', 1749), ('at', 1720), ('from', 1702), ('t', 1688), ('he', 1686), ('not', 1681), ('have', 1631), ('has', 1606), ('all', 1603), ('i', 1576), ('movie', 1554), ('out', 1539), ('like', 1497), ('there', 1496), ('was', 1496), ('they', 1495), ('so', 1484), ('you', 1474), ('more', 1469), ('up', 1461), ('about', 1461), ('when', 1449), ('what', 1399), ('or', 1388), ('can', 1368), ('some', 1365), ('if', 1350), ('just', 1327), ('which', 1320), ('into', 1310), ('only', 1309), ('their', 1295), ('even', 1291), ('than', 1284), ('time', 1258), ('no', 1206), ('most', 1186), ('good', 1182), ('much', 1138), ('would', 1136), ('him', 1130), ('her', 1116), ('other', 1108), ('we', 1106), ('get', 1100), ('been', 1088), ('do', 1080), ('well', 1080), ('story', 1078), ('its', 1076), ('will', 1072), ('also', 1071), ('after', 1068), ('two', 1063), ('first', 1047), ('character', 1047), ('them', 1038), ('make', 1017), ('way', 1016), ('see', 974), ('off', 970), ('very', 967), ('characters', 965), ('does', 964), ('she', 959), ('while', 958), ('any', 956), ('too', 948), ('where', 931), ('over', 929), ('little', 921), ('because', 916), ('how', 913), ('had', 900), ('director', 898), ('plot', 892), ('could', 890)]\n"
     ]
    },
    {
     "data": {
      "text/plain": [
       "[<matplotlib.lines.Line2D at 0x7fc09be66580>]"
      ]
     },
     "execution_count": 92,
     "metadata": {},
     "output_type": "execute_result"
    },
    {
     "data": {
      "image/png": "[encoded data removed]",
      "text/plain": [
       "<Figure size 432x288 with 1 Axes>"
      ]
     },
     "metadata": {
      "needs_background": "light"
     },
     "output_type": "display_data"
    }
   ],
   "source": [
    "# Affichage des 100 mots les plus apparus dans les phrases\n",
    "print(\"100 mots les plus apparus : \",dico.most_common(100))\n",
    "freq = [f for w,f in dico.most_common()]\n",
    "\n",
    "plt.plot(freq)"
   ]
  },
  {
   "cell_type": "markdown",
   "metadata": {},
   "source": [
    "# Transformation paramétrique du texte"
   ]
  },
  {
   "cell_type": "code",
   "execution_count": 93,
   "metadata": {},
   "outputs": [],
   "source": [
    "# DEFINITION DES FONCTIONS DE PRETRAITEMENT\n",
    "\n",
    "# Data augmentation pour rééquilibrer les classes\n",
    "def data_augmentation(txt,labs):\n",
    "    liste_positions = []\n",
    "    for i in labs:\n",
    "        liste_positions.append(i == 1) \n",
    "\n",
    "    liste_classe_minoritaire = itertools.compress(txt, liste_positions)\n",
    "\n",
    "    txts_bis = []\n",
    "    for each in liste_classe_minoritaire:\n",
    "        txts_bis.append(each)\n",
    "\n",
    "    for elem in txts_bis: # nombre d'ajout trouvé de manière empirique pour avoir environ 50/50\n",
    "        txt.append(elem)\n",
    "        txt.append(elem)\n",
    "        txt.append(elem)\n",
    "        txt.append(elem)\n",
    "        txt.append(elem)\n",
    "        labs.append(1)\n",
    "        labs.append(1)\n",
    "        labs.append(1)\n",
    "        labs.append(1)\n",
    "        labs.append(1)\n",
    "\n",
    "# Stemming\n",
    "def stemming(txt):\n",
    "    ps = PorterStemmer()\n",
    "    compteur = 0\n",
    "    for sentence in txt:\n",
    "        # print(\"sentence : \",sentence)\n",
    "        words = word_tokenize(sentence,language='french')\n",
    "        # print(\"words : \",words)\n",
    "        sentence_new = ''\n",
    "        for word in words:\n",
    "            word_new = ps.stem(word)\n",
    "            sentence_new += word_new + ' '\n",
    "        txt[compteur] = sentence_new\n",
    "        compteur += 1\n",
    "\n",
    "# Stopword\n",
    "stop_words = stopwords.words('french')\n",
    "\n"
   ]
  },
  {
   "cell_type": "code",
   "execution_count": 94,
   "metadata": {},
   "outputs": [],
   "source": [
    "# MISE EN PLACE DES PRETRAITEMENTS --> GENERATION DE DIFFERENTS JEUX DE DONNEES\n",
    "# 3 prétraitrements différents : prétaitements basiques + stop words + stemming, n-gram niveau mots, n-gram niveau caractères\n",
    "\n",
    "# Séparation train / test\n",
    "X_train, X_test, y_train, y_test = train_test_split(alltxts, alllabs, test_size=0.3, random_state=0)\n",
    "\n",
    "\n",
    "# On ajoute à liste_donnees différents jeux de données issus de différents pré-traitements\n",
    "liste_donnees = []\n",
    "\n",
    "# Prétraitement par stemming commun à tous les jeux de données\n",
    "stemming(X_train)\n",
    "stemming(X_test)\n",
    "\n",
    "#######################################\n",
    "# PRETRAITEMENTS SANS DATA AUGMENTATION\n",
    "#######################################\n",
    "X_train_1 = X_train.copy()\n",
    "X_test_1 = X_test.copy()\n",
    "y_train_1 = y_train.copy()\n",
    "y_test_1 = y_test.copy()\n",
    "\n",
    "# Prétraitement avec pré-traitements basiques + stop words + stemming\n",
    "vectorizer = CountVectorizer(stop_words = stop_words, min_df = 2)\n",
    "X_train_vec = vectorizer.fit_transform(X_train_1)\n",
    "X_test_vec = vectorizer.transform(X_test_1)\n",
    "liste_donnees.append([X_train_vec,y_train_1,X_test_vec,y_test_1,len(vectorizer.get_feature_names()), \"Prétraitements basiques + stopwords + stemming : \"])\n",
    "\n",
    "# Prétraitement avec bigram et trigram au niv mot (+ pré-traitements basiques + stop words + stemming)\n",
    "vectorizer = CountVectorizer(stop_words = stop_words, ngram_range=(1,3), analyzer='word', min_df = 2)\n",
    "X_train_vec = vectorizer.fit_transform(X_train_1)\n",
    "X_test_vec = vectorizer.transform(X_test_1)\n",
    "liste_donnees.append([X_train_vec,y_train_1,X_test_vec,y_test_1,len(vectorizer.get_feature_names()), \"Prétraitements basiques + stopwords + stemming + bigram/trigram niveau mot : \"])\n",
    "\n",
    "# Prétraitement avec bigram et trigram au niv caractère (+ pré-traitements basiques + stop words + stemming)\n",
    "vectorizer = CountVectorizer(stop_words = stop_words,ngram_range=(2,4), analyzer='char', min_df = 2)\n",
    "X_train_vec = vectorizer.fit_transform(X_train_1)\n",
    "X_test_vec = vectorizer.transform(X_test_1)\n",
    "liste_donnees.append([X_train_vec,y_train_1,X_test_vec,y_test_1,len(vectorizer.get_feature_names()), \"Prétraitements basiques + stopwords + stemming + bigram/trigram niveau caractère: \"])\n"
   ]
  },
  {
   "cell_type": "code",
   "execution_count": 95,
   "metadata": {},
   "outputs": [
    {
     "name": "stdout",
     "output_type": "stream",
     "text": [
      "Prétraitements basiques + stopwords + stemming : \n",
      "Taille vocab :  13817\n",
      "Prétraitements basiques + stopwords + stemming + bigram/trigram niveau mot : \n",
      "Taille vocab :  155194\n",
      "Prétraitements basiques + stopwords + stemming + bigram/trigram niveau caractère: \n",
      "Taille vocab :  40637\n"
     ]
    }
   ],
   "source": [
    "# Taille du vocabulaire des données issues des différents pré-traitements\n",
    "for liste in liste_donnees:\n",
    "    print(liste[5])\n",
    "    print(\"Taille vocab : \",liste[4])"
   ]
  },
  {
   "cell_type": "markdown",
   "metadata": {},
   "source": [
    "# Effets des différents prétraitements sur les performances"
   ]
  },
  {
   "cell_type": "code",
   "execution_count": 96,
   "metadata": {},
   "outputs": [
    {
     "name": "stdout",
     "output_type": "stream",
     "text": [
      "\n",
      "entree SVM\n",
      "entree Reg Log\n",
      "entree Naives Bayes\n",
      " \n",
      "Prétraitements basiques + stopwords + stemming : \n",
      "taille vocabulaire :  13817\n",
      "SVM - paramètre C optimal : {'C': 0.001}\n",
      "SVM - Perf en apprentissage (avec C optimal) :  0.9907142857142858\n",
      "Reg logisti - paramètre C optimal : {'C': 0.01}\n",
      "Reg logisti - Perf en apprentissage  (avec C optimal) :  0.9871428571428571\n",
      "Naives Bayes - paramètre alpha optimal : {'alpha': 0.8}\n",
      "Naives Bayes - Perf en apprentissage  (avec alpha optimal) :  0.9571428571428572\n",
      "\n",
      "entree SVM\n",
      "entree Reg Log\n",
      "entree Naives Bayes\n",
      " \n",
      "Prétraitements basiques + stopwords + stemming + bigram/trigram niveau mot : \n",
      "taille vocabulaire :  155194\n",
      "SVM - paramètre C optimal : {'C': 0.001}\n",
      "SVM - Perf en apprentissage (avec C optimal) :  1.0\n",
      "Reg logisti - paramètre C optimal : {'C': 0.1}\n",
      "Reg logisti - Perf en apprentissage  (avec C optimal) :  1.0\n",
      "Naives Bayes - paramètre alpha optimal : {'alpha': 0.5}\n",
      "Naives Bayes - Perf en apprentissage  (avec alpha optimal) :  1.0\n",
      "\n",
      "entree SVM\n",
      "entree Reg Log\n",
      "entree Naives Bayes\n",
      " \n",
      "Prétraitements basiques + stopwords + stemming + bigram/trigram niveau caractère: \n",
      "taille vocabulaire :  40637\n",
      "SVM - paramètre C optimal : {'C': 0.0001}\n",
      "SVM - Perf en apprentissage (avec C optimal) :  0.9935714285714285\n",
      "Reg logisti - paramètre C optimal : {'C': 0.001}\n",
      "Reg logisti - Perf en apprentissage  (avec C optimal) :  0.9935714285714285\n",
      "Naives Bayes - paramètre alpha optimal : {'alpha': 0.5}\n",
      "Naives Bayes - Perf en apprentissage  (avec alpha optimal) :  0.9271428571428572\n"
     ]
    }
   ],
   "source": [
    "modeles = []\n",
    "\n",
    "compteur = 0\n",
    "for liste in liste_donnees: # remplacer liste_donnees par [liste_donnees[i]] pour tester un des jeux de données prétraité en particulier sinon ça prend beaucoup de temps\n",
    "    compteur += 1\n",
    "\n",
    "    # Pour chaque jeu de données prétraitées, on fit 3 classifieurs\n",
    "    # Pour chaque classifieur, on optimise ses paramètres en train avec gridSearch et on regarde les perf du meilleur estimateur en test\n",
    "    ## Linear SVM\n",
    "    print(\"\\nentree SVM\")\n",
    "    clf_svm = svm.LinearSVC(random_state=0, tol=1e-5, max_iter = 10000)\n",
    "    param_grid_svm = {'C': [0.0001, 0.001, 0.01, 0.1]}\n",
    "    grid_svm = GridSearchCV(clf_svm, param_grid = param_grid_svm, n_jobs=3)\n",
    "    grid_svm.fit(liste[0],liste[1])\n",
    "\n",
    "    ## logistic regression\n",
    "    print(\"entree Reg Log\")\n",
    "    clf_log = LogisticRegression(max_iter = 10000)\n",
    "    param_grid_log = {'C': [0.0001, 0.001, 0.01, 0.1]}\n",
    "    grid_log = GridSearchCV(clf_log, param_grid = param_grid_log, n_jobs=3)\n",
    "    grid_log.fit(liste[0],liste[1])\n",
    "\n",
    "    ## Naives Bayes\n",
    "    print(\"entree Naives Bayes\")\n",
    "    clf_nvb = MultinomialNB()\n",
    "    param_grid_nvb = {'alpha': [0.1, 0.5, 0.8, 1]}\n",
    "    grid_nvb = GridSearchCV(clf_nvb, param_grid = param_grid_nvb, n_jobs=3)\n",
    "    grid_nvb.fit(liste[0],liste[1])\n",
    "    \n",
    "    \n",
    "\n",
    "    print(\" \")\n",
    "    print(liste[5])\n",
    "    print(\"taille vocabulaire : \",liste[4])\n",
    "    \n",
    "    print(\"SVM - paramètre C optimal :\", grid_svm.best_params_)\n",
    "    print(\"SVM - Perf en apprentissage (avec C optimal) : \",grid_svm.best_estimator_.score(liste[0],liste[1]))\n",
    "    \n",
    "\n",
    "    print(\"Reg logisti - paramètre C optimal :\", grid_log.best_params_)\n",
    "    print(\"Reg logisti - Perf en apprentissage  (avec C optimal) : \",grid_log.best_estimator_.score(liste[0],liste[1]))\n",
    "\n",
    "\n",
    "    print(\"Naives Bayes - paramètre alpha optimal :\", grid_nvb.best_params_)\n",
    "    print(\"Naives Bayes - Perf en apprentissage  (avec alpha optimal) : \",grid_nvb.best_estimator_.score(liste[0],liste[1]))\n",
    "\n",
    "\n",
    "\n",
    "    modeles.append([grid_svm.best_estimator_, \"Best SVM\",liste[2],liste[3]])\n",
    "    modeles.append([grid_log.best_estimator_, \"Best Reg Log\",liste[2],liste[3]])\n",
    "    modeles.append([grid_nvb.best_estimator_, \"Best Naives Bayes\",liste[2],liste[3]])\n",
    "    \n"
   ]
  },
  {
   "cell_type": "code",
   "execution_count": 97,
   "metadata": {},
   "outputs": [
    {
     "name": "stdout",
     "output_type": "stream",
     "text": [
      "[[252  48]\n",
      " [ 56 244]]\n",
      "[[0.84       0.16      ]\n",
      " [0.18666667 0.81333333]]\n"
     ]
    }
   ],
   "source": [
    "# On construit le modèle final correspondant au vote de plusieurs modèles\n",
    "# Et on calcule ses performances en test\n",
    "y_pred = []\n",
    "y_moy = []\n",
    "modeles_selectionnees = [modeles[3],modeles[4],modeles[5]] # Indices correspondant aux modèles sélectionnés pour le vote\n",
    "\n",
    "for mod in modeles_selectionnees: \n",
    "    y_pred.append(mod[0].predict(mod[2]))\n",
    "\n",
    "for i in range(0,len(y_pred[0])):\n",
    "    if [y[i] for y in y_pred].count(1) > len(modeles_selectionnees)//2: # résultat du \"vote\" des modèles\n",
    "        y_moy.append(1)\n",
    "    else:\n",
    "        y_moy.append(0)\n",
    "\n",
    "conf_matrix_0 = confusion_matrix(y_moy, y_test)\n",
    "conf_matrix = confusion_matrix(y_moy, y_test, normalize = 'true')\n",
    "print(conf_matrix_0)\n",
    "print(conf_matrix)\n"
   ]
  },
  {
   "cell_type": "code",
   "execution_count": 74,
   "metadata": {},
   "outputs": [],
   "source": [
    "\n",
    "# Génération du fichier .txt de résultats\n",
    "import pandas as pd\n",
    "df = pd.DataFrame({'Phrase': X_test, 'Classe réelle': y_test, 'Classe prédite': y_moy}, columns = ['Phrase', 'Classe réelle', 'Classe prédite'])\n",
    "df.to_csv(\"fichier.csv\")\n"
   ]
  }
 ],
 "metadata": {
  "kernelspec": {
   "display_name": "Python 3.9.12",
   "language": "python",
   "name": "python3"
  },
  "language_info": {
   "codemirror_mode": {
    "name": "ipython",
    "version": 3
   },
   "file_extension": ".py",
   "mimetype": "text/x-python",
   "name": "python",
   "nbconvert_exporter": "python",
   "pygments_lexer": "ipython3",
   "version": "3.9.12"
  },
  "vscode": {
   "interpreter": {
    "hash": "b232fc45960c9dbd0c0efb27ff96954c5713886543565220a28c70b42cf4b7a6"
   }
  }
 },
 "nbformat": 4,
 "nbformat_minor": 2
}
